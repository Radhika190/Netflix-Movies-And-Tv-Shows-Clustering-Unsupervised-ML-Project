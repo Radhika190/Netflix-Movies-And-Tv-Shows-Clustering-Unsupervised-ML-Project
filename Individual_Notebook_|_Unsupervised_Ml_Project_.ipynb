{
  "nbformat": 4,
  "nbformat_minor": 0,
  "metadata": {
    "colab": {
      "private_outputs": true,
      "provenance": [],
      "collapsed_sections": [
        "vncDsAP0Gaoa",
        "FJNUwmbgGyua",
        "w6K7xa23Elo4",
        "yQaldy8SH6Dl",
        "mDgbUHAGgjLW",
        "O_i_v8NEhb9l",
        "HhfV-JJviCcP",
        "Y3lxredqlCYt",
        "3RnN4peoiCZX",
        "x71ZqKXriCWQ",
        "7hBIi_osiCS2",
        "JlHwYmJAmNHm",
        "35m5QtbWiB9F",
        "PoPl-ycgm1ru",
        "H0kj-8xxnORC",
        "nA9Y7ga8ng1Z",
        "PBTbrJXOngz2",
        "u3PMJOP6ngxN",
        "dauF4eBmngu3",
        "bKJF3rekwFvQ",
        "MSa1f5Uengrz",
        "GF8Ens_Soomf",
        "0wOQAZs5pc--",
        "K5QZ13OEpz2H",
        "lQ7QKXXCp7Bj",
        "448CDAPjqfQr",
        "KSlN3yHqYklG",
        "t6dVpIINYklI",
        "ijmpgYnKYklI",
        "-JiQyfWJYklI",
        "EM7whBJCYoAo",
        "fge-S5ZAYoAp",
        "85gYPyotYoAp",
        "RoGjAbkUYoAp",
        "4Of9eVA-YrdM",
        "iky9q4vBYrdO",
        "F6T5p64dYrdO",
        "y-Ehk30pYrdP",
        "bamQiAODYuh1",
        "QHF8YVU7Yuh3",
        "GwzvFGzlYuh3",
        "qYpmQ266Yuh3",
        "OH-pJp9IphqM",
        "bbFf2-_FphqN",
        "_ouA3fa0phqN",
        "Seke61FWphqN",
        "PIIx-8_IphqN",
        "t27r6nlMphqO",
        "r2jJGEOYphqO",
        "b0JNsNcRphqO",
        "BZR9WyysphqO",
        "jj7wYXLtphqO",
        "eZrbJ2SmphqO",
        "rFu4xreNphqO",
        "YJ55k-q6phqO",
        "gCFgpxoyphqP",
        "OVtJsKN_phqQ",
        "lssrdh5qphqQ",
        "U2RJ9gkRphqQ",
        "1M8mcRywphqQ",
        "tgIPom80phqQ",
        "JMzcOPDDphqR",
        "x-EpHcCOp1ci",
        "X_VqEhTip1ck",
        "8zGJKyg5p1ck",
        "PVzmfK_Ep1ck",
        "n3dbpmDWp1ck",
        "ylSl6qgtp1ck",
        "ZWILFDl5p1ck",
        "M7G43BXep1ck",
        "Ag9LCva-p1cl",
        "E6MkPsBcp1cl",
        "2cELzS2fp1cl",
        "3MPXvC8up1cl",
        "NC_X3p0fY2L0",
        "UV0SzAkaZNRQ",
        "YPEH6qLeZNRQ",
        "q29F0dvdveiT",
        "EXh0U9oCveiU",
        "22aHeOlLveiV",
        "g-ATYxFrGrvw",
        "Yfr_Vlr8HBkt",
        "8yEUt7NnHlrM",
        "tEA2Xm5dHt1r",
        "I79__PHVH19G",
        "Ou-I18pAyIpj",
        "fF3858GYyt-u",
        "4_0_7-oCpUZd",
        "hwyV_J3ipUZe",
        "3yB-zSqbpUZe",
        "dEUvejAfpUZe",
        "Fd15vwWVpUZf",
        "bn_IUdTipZyH",
        "49K5P_iCpZyH",
        "Nff-vKELpZyI",
        "kLW572S8pZyI",
        "dWbDXHzopZyI",
        "yLjJCtPM0KBk",
        "xiyOF9F70UgQ",
        "7wuGOrhz0itI",
        "id1riN9m0vUs",
        "578E2V7j08f6",
        "89xtkJwZ18nB",
        "67NQN5KX2AMe",
        "Iwf50b-R2tYG",
        "GMQiZwjn3iu7",
        "WVIkgGqN3qsr",
        "XkPnILGE3zoT",
        "Hlsf0x5436Go",
        "mT9DMSJo4nBL",
        "c49ITxTc407N",
        "OeJFEK0N496M",
        "9ExmJH0g5HBk",
        "cJNqERVU536h",
        "k5UmGsbsOxih",
        "T0VqWOYE6DLQ",
        "qBMux9mC6MCf",
        "-oLEiFgy-5Pf",
        "C74aWNz2AliB",
        "2DejudWSA-a0",
        "pEMng2IbBLp7",
        "rAdphbQ9Bhjc",
        "TNVZ9zx19K6k",
        "nqoHp30x9hH9",
        "rMDnDkt2B6du",
        "yiiVWRdJDDil",
        "1UUpS68QDMuG",
        "kexQrXU-DjzY",
        "T5CmagL3EC8N",
        "BhH2vgX9EjGr",
        "qjKvONjwE8ra",
        "P1XJ9OREExlT",
        "VFOzZv6IFROw",
        "TIqpNgepFxVj",
        "VfCC591jGiD4",
        "OB4l2ZhMeS1U",
        "ArJBuiUVfxKd",
        "4qY1EAkEfxKe",
        "PiV4Ypx8fxKe",
        "TfvqoZmBfxKf",
        "dJ2tPlVmpsJ0",
        "JWYfwnehpsJ1",
        "-jK_YjpMpsJ2",
        "HAih1iBOpsJ2",
        "zVGeBEFhpsJ2",
        "bmKjuQ-FpsJ3",
        "Fze-IPXLpx6K",
        "7AN1z2sKpx6M",
        "9PIHJqyupx6M",
        "_-qAgymDpx6N",
        "Z-hykwinpx6N",
        "h_CCil-SKHpo",
        "cBFFvTBNJzUa",
        "HvGl1hHyA_VK",
        "EyNgTHvd2WFk",
        "KH5McJBi2d8v",
        "iW_Lq9qf2h6X",
        "-Kee-DAl2viO",
        "gCX9965dhzqZ",
        "gIfDvo9L0UH2"
      ],
      "include_colab_link": true
    },
    "kernelspec": {
      "name": "python3",
      "display_name": "Python 3"
    },
    "language_info": {
      "name": "python"
    }
  },
  "cells": [
    {
      "cell_type": "markdown",
      "metadata": {
        "id": "view-in-github",
        "colab_type": "text"
      },
      "source": [
        "<a href=\"https://colab.research.google.com/github/Radhika190/Netflix-Movies-And-Tv-Shows-Clustering-Unsupervised-ML-Project/blob/main/Individual_Notebook_%7C_Unsupervised_Ml_Project_.ipynb\" target=\"_parent\"><img src=\"https://colab.research.google.com/assets/colab-badge.svg\" alt=\"Open In Colab\"/></a>"
      ]
    },
    {
      "cell_type": "markdown",
      "source": [
        "# **Project Name**    - Netflix Movies And Tv Shows Clustering\n",
        "\n"
      ],
      "metadata": {
        "id": "vncDsAP0Gaoa"
      }
    },
    {
      "cell_type": "markdown",
      "source": [
        "##### **Project Type**    - Unsupervised\n",
        "##### **Contribution**    - Individual\n",
        "##### **Name**            - Radhika Dwivedi\n"
      ],
      "metadata": {
        "id": "beRrZCGUAJYm"
      }
    },
    {
      "cell_type": "markdown",
      "source": [
        "# **Project Summary -**"
      ],
      "metadata": {
        "id": "FJNUwmbgGyua"
      }
    },
    {
      "cell_type": "markdown",
      "source": [
        "This project aims to conduct an in-depth analysis and clustering of Netflix movies and TV shows based on their various attributes, with the goal of uncovering valuable insights into content categories and user preferences. Clustering methods will be employed to group similar content together, facilitating improved content recommendations, content management, and a deeper understanding of audience preferences.\n",
        "\n",
        "Project Approach:\n",
        "\n",
        "* Data Collection: We will assemble a comprehensive dataset encompassing Netflix titles, including attributes such as title, genre, release year, duration, cast, director, and more.\n",
        "\n",
        "* Data Preprocessing: Thorough data cleaning will be performed to handle missing values. Categorical variables will be transformed into numerical representations, and numerical features will be normalized or scaled.\n",
        "\n",
        "* Feature Extraction: Depending on the data at hand, relevant features will be extracted from the dataset. This may involve embedding genre information, cast details, and more.\n",
        "\n",
        "* Clustering Algorithm Selection: We will choose appropriate clustering algorithms, such as K-Means, Hierarchical Clustering, or DBSCAN, based on the dataset's characteristics and the desired outcomes.\n",
        "\n",
        "* Clustering: The chosen clustering algorithm will be applied to the dataset to form distinct clusters of movies and TV shows based on their attributes. Each cluster will represent content with similar characteristics.\n",
        "\n",
        "* Evaluation: Cluster quality will be assessed using metrics like silhouette score, Davies-Bouldin index, or domain-specific metrics if available.\n",
        "\n",
        "* Visualization: Visualization techniques like dimensionality reduction (e.g., t-SNE) will be employed to depict the relationships among different content items within the clusters.\n",
        "\n",
        "* Interpretation: The clusters will be analyzed to identify common themes, genres, or patterns that emerge within each cluster. This analysis will offer insights into viewer preferences and assist in content curation.\n",
        "\n",
        "* Recommendations: Leveraging the clusters, we will enhance content recommendations for users. If a user enjoys content from one cluster, similar content from the same cluster can be suggested.\n",
        "\n",
        "Project Benefits:\n",
        "\n",
        "Content Curation: Content managers can efficiently categorize and manage the extensive Netflix library, simplifying content organization.\n",
        "\n",
        "Personalized Recommendations: Improved clustering can enhance the accuracy of content recommendations, resulting in more personalized viewing experiences for users.\n",
        "\n",
        "Insights for Production: Identifying popular clusters can guide content creators and managers in making informed decisions about future content production and acquisition.\n",
        "\n",
        "By applying clustering techniques to Netflix movies and TV shows, we aim to provide a more structured and personalized viewing experience for users while delivering valuable insights for content stakeholders.\n"
      ],
      "metadata": {
        "id": "F6v_1wHtG2nS"
      }
    },
    {
      "cell_type": "markdown",
      "source": [
        "# **GitHub Link -**"
      ],
      "metadata": {
        "id": "w6K7xa23Elo4"
      }
    },
    {
      "cell_type": "markdown",
      "source": [
        "https://github.com/Radhika190/Netflix-Movies-And-Tv-Shows-Clustering-Unsupervised-ML-Project"
      ],
      "metadata": {
        "id": "h1o69JH3Eqqn"
      }
    },
    {
      "cell_type": "markdown",
      "source": [
        "# **Problem Statement**\n"
      ],
      "metadata": {
        "id": "yQaldy8SH6Dl"
      }
    },
    {
      "cell_type": "markdown",
      "source": [
        "Netflix, a global streaming leader, faces a challenge: as its content library expands, users struggle to find what they like. Our proposal: apply clustering analysis to categorize similar content.\n",
        "\n",
        "Key Issues:\n",
        "\n",
        "**Content Organization:** Netflix's vast library needs efficient organization across genres, release years, and styles.\n",
        "\n",
        "**User Engagement:** Personalized recommendations are vital for user satisfaction. Clustering helps understand user preferences for tailored suggestions.\n",
        "\n",
        "**Content Curation:** To cater to diverse audiences, understanding their preferences is crucial for content creators.\n",
        "\n",
        "This project offers insights into Netflix's evolving content landscape and audience preferences. These insights can drive better content curation, enhance user satisfaction, and inform strategic decisions."
      ],
      "metadata": {
        "id": "DpeJGUA3kjGy"
      }
    },
    {
      "cell_type": "markdown",
      "source": [
        "# **General Guidelines** : -  "
      ],
      "metadata": {
        "id": "mDgbUHAGgjLW"
      }
    },
    {
      "cell_type": "markdown",
      "source": [
        "1.   Well-structured, formatted, and commented code is required.\n",
        "2.   Exception Handling, Production Grade Code & Deployment Ready Code will be a plus. Those students will be awarded some additional credits.\n",
        "     \n",
        "     The additional credits will have advantages over other students during Star Student selection.\n",
        "       \n",
        "             [ Note: - Deployment Ready Code is defined as, the whole .ipynb notebook should be executable in one go\n",
        "                       without a single error logged. ]\n",
        "\n",
        "3.   Each and every logic should have proper comments.\n",
        "4. You may add as many number of charts you want. Make Sure for each and every chart the following format should be answered.\n",
        "        \n",
        "\n",
        "```\n",
        "# Chart visualization code\n",
        "```\n",
        "            \n",
        "\n",
        "*   Why did you pick the specific chart?\n",
        "*   What is/are the insight(s) found from the chart?\n",
        "* Will the gained insights help creating a positive business impact?\n",
        "Are there any insights that lead to negative growth? Justify with specific reason.\n",
        "\n",
        "5. You have to create at least 15 logical & meaningful charts having important insights.\n",
        "\n",
        "\n",
        "[ Hints : - Do the Vizualization in  a structured way while following \"UBM\" Rule.\n",
        "\n",
        "U - Univariate Analysis,\n",
        "\n",
        "B - Bivariate Analysis (Numerical - Categorical, Numerical - Numerical, Categorical - Categorical)\n",
        "\n",
        "M - Multivariate Analysis\n",
        " ]\n",
        "\n",
        "\n",
        "\n",
        "\n",
        "\n",
        "6. You may add more ml algorithms for model creation. Make sure for each and every algorithm, the following format should be answered.\n",
        "\n",
        "\n",
        "*   Explain the ML Model used and it's performance using Evaluation metric Score Chart.\n",
        "\n",
        "\n",
        "*   Cross- Validation & Hyperparameter Tuning\n",
        "\n",
        "*   Have you seen any improvement? Note down the improvement with updates Evaluation metric Score Chart.\n",
        "\n",
        "*   Explain each evaluation metric's indication towards business and the business impact pf the ML model used.\n",
        "\n",
        "\n",
        "\n",
        "\n",
        "\n",
        "\n",
        "\n",
        "\n",
        "\n",
        "\n",
        "\n",
        "\n",
        "\n",
        "\n",
        "\n",
        "\n",
        "\n",
        "\n"
      ],
      "metadata": {
        "id": "ZrxVaUj-hHfC"
      }
    },
    {
      "cell_type": "markdown",
      "source": [
        "# ***Let's Begin !***"
      ],
      "metadata": {
        "id": "O_i_v8NEhb9l"
      }
    },
    {
      "cell_type": "markdown",
      "source": [
        "## ***1. Know Your Data***"
      ],
      "metadata": {
        "id": "HhfV-JJviCcP"
      }
    },
    {
      "cell_type": "markdown",
      "source": [
        "### Import Libraries"
      ],
      "metadata": {
        "id": "Y3lxredqlCYt"
      }
    },
    {
      "cell_type": "code",
      "source": [
        "# Import Libraries\n",
        "# Import Pandas for data manipulation and analysis\n",
        "import pandas as pd\n",
        "\n",
        "# Import NumPy for numerical computing and array operations\n",
        "import numpy as np\n",
        "\n",
        "# Import Matplotlib and Seaborn for data visualization\n",
        "import matplotlib.pyplot as plt\n",
        "%matplotlib inline\n",
        "import seaborn as sns\n",
        "\n",
        "# Import Missingno for visualizing missing data patterns\n",
        "import missingno as msno\n",
        "\n",
        "# Import Matplotlib's colormap module for color map manipulations\n",
        "import matplotlib.cm as cm\n",
        "from matplotlib.colors import LinearSegmentedColormap\n",
        "# Import Geopandas for working with geospatial data\n",
        "import geopandas as gpd\n",
        "\n",
        "# Install or upgrade the 'country_converter' package using pip\n",
        "!pip install country_converter --upgrade\n",
        "\n",
        "# Import country_converter for converting country names and codes\n",
        "import country_converter as coco\n",
        "\n",
        "# Import Plotly Express for interactive visualizations\n",
        "import plotly.express as px\n",
        "\n",
        "# Import the 'string' module for working with strings and punctuation\n",
        "import string\n",
        "\n",
        "# Import statistics module from SciPy for statistical computations\n",
        "from scipy import stats\n",
        "\n",
        "# Import CountVectorizer and TfidfVectorizer for text feature extraction\n",
        "from sklearn.feature_extraction.text import CountVectorizer, TfidfVectorizer\n",
        "\n",
        "# Import WordCloud, STOPWORDS, and ImageColorGenerator for text visualization\n",
        "from wordcloud import WordCloud, STOPWORDS, ImageColorGenerator\n",
        "\n",
        "# Import NLTK modules for natural language processing\n",
        "from nltk.tokenize import word_tokenize, sent_tokenize\n",
        "from nltk.stem import WordNetLemmatizer, SnowballStemmer\n",
        "from nltk.corpus import stopwords\n",
        "from nltk.tokenize import TweetTokenizer\n",
        "\n",
        "# Import cosine_similarity from scikit-learn for text similarity\n",
        "from sklearn.metrics.pairwise import cosine_similarity\n",
        "\n",
        "# Import PCA for Principal Component Analysis\n",
        "from sklearn.decomposition import PCA\n",
        "\n",
        "# Import silhouette_score and silhouette_samples for cluster evaluation\n",
        "from sklearn.metrics import silhouette_score, silhouette_samples\n",
        "\n",
        "# Import KMeans for k-means clustering\n",
        "from sklearn.cluster import KMeans\n",
        "\n",
        "# Import hierarchy module from SciPy for hierarchical clustering\n",
        "import scipy.cluster.hierarchy as shc\n",
        "\n",
        "# Import AgglomerativeClustering for agglomerative hierarchical clustering\n",
        "from sklearn.cluster import AgglomerativeClustering\n",
        "\n",
        "# Import SilhouetteVisualizer for visualizing silhouette scores\n",
        "from yellowbrick.cluster import SilhouetteVisualizer\n",
        "\n",
        "# Import warnings for managing warning messages\n",
        "import warnings\n",
        "\n",
        "# Ignore warning messages to improve code readability\n",
        "warnings.filterwarnings('ignore')\n",
        "\n",
        "# Import Spacy and other libraries for preprocessing and analysis\n",
        "import spacy\n",
        "import en_core_web_sm\n",
        "import nltk\n",
        "from nltk.corpus import stopwords\n",
        "from wordcloud import WordCloud\n",
        "from sklearn.decomposition import TruncatedSVD\n",
        "from nltk import ne_chunk\n",
        "from sklearn.preprocessing import StandardScaler, MinMaxScaler, MultiLabelBinarizer, OneHotEncoder\n",
        "\n",
        "# Additional libraries for clustering and visualization\n",
        "import matplotlib.cm as cm\n",
        "from sklearn import metrics\n",
        "import plotly.express as px\n",
        "from sklearn.metrics.pairwise import linear_kernel\n",
        "import matplotlib.pyplot as plt\n",
        "import plotly.express as px\n",
        "import seaborn as sns\n",
        "\n",
        "# Download NLTK data\n",
        "nltk.download('punkt')\n",
        "nltk.download('stopwords')\n",
        "nltk.download('averaged_perceptron_tagger')\n",
        "nltk.download('wordnet')\n",
        "\n",
        "# Load Spacy language model\n",
        "nlp = en_core_web_sm.load()"
      ],
      "metadata": {
        "id": "M8Vqi-pPk-HR"
      },
      "execution_count": null,
      "outputs": []
    },
    {
      "cell_type": "markdown",
      "source": [
        "### Dataset Loading"
      ],
      "metadata": {
        "id": "3RnN4peoiCZX"
      }
    },
    {
      "cell_type": "code",
      "source": [
        "# Load Dataset\n",
        "## mounting drive\n",
        "from google.colab import drive\n",
        "drive.mount('/content/drive')"
      ],
      "metadata": {
        "id": "4CkvbW_SlZ_R"
      },
      "execution_count": null,
      "outputs": []
    },
    {
      "cell_type": "code",
      "source": [
        "netflix_df = pd.read_csv('/content/drive/MyDrive/ML PROJECT/Unsupervised Ml Project/NETFLIX MOVIES AND TV SHOWS CLUSTERING.csv')"
      ],
      "metadata": {
        "id": "e5L-nhjBkWrF"
      },
      "execution_count": null,
      "outputs": []
    },
    {
      "cell_type": "markdown",
      "source": [
        "### Dataset First View"
      ],
      "metadata": {
        "id": "x71ZqKXriCWQ"
      }
    },
    {
      "cell_type": "code",
      "source": [
        "# Dataset First Look\n",
        "netflix_df.head()       ## shows the top 5 rows"
      ],
      "metadata": {
        "id": "LWNFOSvLl09H"
      },
      "execution_count": null,
      "outputs": []
    },
    {
      "cell_type": "code",
      "source": [
        "netflix_df.tail()       ## shows the bottom 5 rows"
      ],
      "metadata": {
        "id": "TBARxpZ_neEO"
      },
      "execution_count": null,
      "outputs": []
    },
    {
      "cell_type": "markdown",
      "source": [
        "### Dataset Rows & Columns count"
      ],
      "metadata": {
        "id": "7hBIi_osiCS2"
      }
    },
    {
      "cell_type": "code",
      "source": [
        "# Dataset Rows & Columns count\n",
        "# netflix_data.shape[0] - returns the number of rows\n",
        "# netflix_data.shape[1] - returns the number of columns\n",
        "print(f'There are {netflix_df.shape[0]} rows and {netflix_df.shape[1]} columns')"
      ],
      "metadata": {
        "id": "Kllu7SJgmLij"
      },
      "execution_count": null,
      "outputs": []
    },
    {
      "cell_type": "markdown",
      "source": [
        "### Dataset Information"
      ],
      "metadata": {
        "id": "JlHwYmJAmNHm"
      }
    },
    {
      "cell_type": "code",
      "source": [
        "# Dataset Info\n",
        "netflix_df.info()"
      ],
      "metadata": {
        "id": "e9hRXRi6meOf"
      },
      "execution_count": null,
      "outputs": []
    },
    {
      "cell_type": "markdown",
      "source": [
        "#### Duplicate Values"
      ],
      "metadata": {
        "id": "35m5QtbWiB9F"
      }
    },
    {
      "cell_type": "code",
      "source": [
        "# Dataset Duplicate Value Count\n",
        "netflix_df.duplicated().sum()"
      ],
      "metadata": {
        "id": "1sLdpKYkmox0"
      },
      "execution_count": null,
      "outputs": []
    },
    {
      "cell_type": "markdown",
      "source": [
        "#### Missing Values/Null Values"
      ],
      "metadata": {
        "id": "PoPl-ycgm1ru"
      }
    },
    {
      "cell_type": "code",
      "source": [
        "# Missing Values/Null Values Count\n",
        "netflix_df.isnull().sum()"
      ],
      "metadata": {
        "id": "GgHWkxvamxVg"
      },
      "execution_count": null,
      "outputs": []
    },
    {
      "cell_type": "code",
      "source": [
        "# Visualizing the missing values\n",
        "msno.bar(netflix_df,\n",
        "         fontsize=10,\n",
        "         figsize=(7,4),\n",
        "         color='purple')\n",
        "plt.title('Missing values')\n",
        "plt.show()"
      ],
      "metadata": {
        "id": "3q5wnI3om9sJ"
      },
      "execution_count": null,
      "outputs": []
    },
    {
      "cell_type": "markdown",
      "source": [
        "### What did you know about your dataset?"
      ],
      "metadata": {
        "id": "H0kj-8xxnORC"
      }
    },
    {
      "cell_type": "markdown",
      "source": [
        "1. The dataset consists of 7787 rows and 12 columns.\n",
        "\n",
        "2. Four columns in the dataset have missing values.\n",
        "\n",
        "3. There are a total of 3631 missing values in the table."
      ],
      "metadata": {
        "id": "gfoNAAC-nUe_"
      }
    },
    {
      "cell_type": "markdown",
      "source": [
        "## ***2. Understanding Your Variables***"
      ],
      "metadata": {
        "id": "nA9Y7ga8ng1Z"
      }
    },
    {
      "cell_type": "code",
      "source": [
        "# Dataset Columns\n",
        "netflix_df.columns"
      ],
      "metadata": {
        "id": "j7xfkqrt5Ag5"
      },
      "execution_count": null,
      "outputs": []
    },
    {
      "cell_type": "code",
      "source": [
        "# Dataset Describe\n",
        "# Transpose of Data Description for better visibility and analysis\n",
        "netflix_df.describe(include='all').T"
      ],
      "metadata": {
        "id": "DnOaZdaE5Q5t"
      },
      "execution_count": null,
      "outputs": []
    },
    {
      "cell_type": "markdown",
      "source": [
        "### Variables Description"
      ],
      "metadata": {
        "id": "PBTbrJXOngz2"
      }
    },
    {
      "cell_type": "markdown",
      "source": [
        "1. show_id: A unique identifier for each show or movie. There are 7787 entries.\n",
        "\n",
        "2. type: Indicates whether the entry is a \"Movie\" or a \"TV Show\". There are 2 unique values, and \"Movie\" appears 5377 times.\n",
        "\n",
        "3. title: The title of the show or movie. There are 7787 unique titles.\n",
        "\n",
        "4. director: The directors of the content. There are 5398 entries, and some entries have multiple directors separated by commas.\n",
        "\n",
        "5. cast: The cast members of the content. There are 7069 entries, and some entries have multiple cast members separated by commas.\n",
        "\n",
        "6. country: The country of origin for the content. There are 7280 entries, and the most common country is the \"United States\" with 2555 occurrences.\n",
        "\n",
        "7. date_added: The date when the content was added to Netflix. There are 7777 entries with dates like \"January 1, 2020\".\n",
        "\n",
        "8. release_year: The year when the content was released. The range of release years is between 1925 and 2021, with an average around 2013.\n",
        "\n",
        "9. rating: The content rating, such as \"TV-MA\" (Mature Audience). There are 7780 entries with 14 unique ratings.\n",
        "\n",
        "10. duration: The duration of the content. For TV shows, it's indicated in terms of seasons (e.g., \"1 Season\"). There are 7787 entries with various durations.\n",
        "\n",
        "11. listed_in: Categories or genres in which the content is listed, such as \"Documentaries\". There are 7787 entries with 492 unique categories.\n",
        "\n",
        "12. description: A brief description or summary of the content. There are 7787 entries with descriptions."
      ],
      "metadata": {
        "id": "aJV4KIxSnxay"
      }
    },
    {
      "cell_type": "markdown",
      "source": [
        "### Check Unique Values for each variable."
      ],
      "metadata": {
        "id": "u3PMJOP6ngxN"
      }
    },
    {
      "cell_type": "code",
      "source": [
        "# Check Unique Values for each variable.\n",
        "def unique_check(netflix_df):\n",
        "  unique = netflix_df.nunique().reset_index()\n",
        "  unique.columns = ['Column', 'Unique_Values']\n",
        "  return unique\n",
        "\n",
        "# Calling the function\n",
        "unique_check(netflix_df)"
      ],
      "metadata": {
        "id": "zms12Yq5n-jE"
      },
      "execution_count": null,
      "outputs": []
    },
    {
      "cell_type": "markdown",
      "source": [
        "## 3. ***Data Wrangling***"
      ],
      "metadata": {
        "id": "dauF4eBmngu3"
      }
    },
    {
      "cell_type": "markdown",
      "source": [
        "### Data Wrangling Code"
      ],
      "metadata": {
        "id": "bKJF3rekwFvQ"
      }
    },
    {
      "cell_type": "code",
      "source": [
        "# Write your code to make your dataset analysis ready.\n",
        "# Convert date_added to datetime format\n",
        "netflix_df['date_added'] = pd.to_datetime(netflix_df['date_added'])"
      ],
      "metadata": {
        "id": "wk-9a2fpoLcV"
      },
      "execution_count": null,
      "outputs": []
    },
    {
      "cell_type": "code",
      "source": [
        "# Handling the Null Values\n",
        "netflix_df['cast'].fillna(value='No cast',inplace=True)\n",
        "netflix_df['country'].fillna(value=netflix_df['country'].mode()[0],inplace=True)\n",
        "netflix_df['director'].fillna(value='NA',inplace=True)"
      ],
      "metadata": {
        "id": "H5mb5QJQgAC-"
      },
      "execution_count": null,
      "outputs": []
    },
    {
      "cell_type": "code",
      "source": [
        "netflix_df.isnull().sum()"
      ],
      "metadata": {
        "id": "2MywKhoXgjr1"
      },
      "execution_count": null,
      "outputs": []
    },
    {
      "cell_type": "markdown",
      "source": [
        "### What all manipulations have you done and insights you found?"
      ],
      "metadata": {
        "id": "MSa1f5Uengrz"
      }
    },
    {
      "cell_type": "markdown",
      "source": [
        " * I converted the 'date_added' column to a datetime format using pd.to_datetime(). This allows for easier analysis and manipulation of date-related information.\n",
        "\n",
        " * Replaced missing values in the 'cast' column with the placeholder 'No cast'.\n",
        "\n",
        " *  Imputed the missing values in the 'country' column with the most frequently occurring value in the column (the mode)."
      ],
      "metadata": {
        "id": "LbyXE7I1olp8"
      }
    },
    {
      "cell_type": "markdown",
      "source": [
        "## ***4. Data Vizualization, Storytelling & Experimenting with charts : Understand the relationships between variables***"
      ],
      "metadata": {
        "id": "GF8Ens_Soomf"
      }
    },
    {
      "cell_type": "markdown",
      "source": [
        "**UNIVARIATE ANALYSIS :-**"
      ],
      "metadata": {
        "id": "1YDT19YyKmUO"
      }
    },
    {
      "cell_type": "markdown",
      "source": [
        "#### Chart - 1 Bar Plot- Distribution of Ratings for Netflix Shows"
      ],
      "metadata": {
        "id": "0wOQAZs5pc--"
      }
    },
    {
      "cell_type": "code",
      "source": [
        "# Chart - 1 visualization code\n",
        "# Grouping the data by 'rating' and calculating the count\n",
        "rating_counts = netflix_df['rating'].value_counts()\n",
        "rating_counts"
      ],
      "metadata": {
        "id": "7v_ESjsspbW7"
      },
      "execution_count": null,
      "outputs": []
    },
    {
      "cell_type": "code",
      "source": [
        "# Define custom colors\n",
        "custom_colors = ['#1f77b4', '#ff7f0e', '#2ca02c', '#d62728', '#9467bd']\n",
        "\n",
        "# Creating a bar plot to visualize the rating distribution\n",
        "plt.figure(figsize=(15, 6))\n",
        "rating_counts.plot(kind='bar', color=custom_colors)\n",
        "plt.xlabel('Rating')\n",
        "plt.ylabel('Count')\n",
        "plt.title('Distribution of Ratings for Netflix Shows')\n",
        "plt.xticks(rotation=45)\n",
        "plt.grid(axis='y', linestyle='--', alpha=0.7)\n",
        "\n",
        "# Display the plot\n",
        "plt.show()"
      ],
      "metadata": {
        "id": "WxJeICfoKi4x"
      },
      "execution_count": null,
      "outputs": []
    },
    {
      "cell_type": "markdown",
      "source": [
        "##### 1. Why did you pick the specific chart?"
      ],
      "metadata": {
        "id": "K5QZ13OEpz2H"
      }
    },
    {
      "cell_type": "markdown",
      "source": [
        "Categorical Data & Bar Plots: \"Rating\" data, like \"TV-PG\" and \"TV-MA,\" is best visualized using bar plots. They display category counts for quick comparisons.\n",
        "\n",
        "Count Focus: Bar plots emphasize counting occurrences, revealing popular and rare ratings.\n",
        "\n",
        "Comparative Insight: They visually highlight count differences between categories.\n",
        "\n",
        "Simplicity: Bar plots are straightforward for displaying categorical data."
      ],
      "metadata": {
        "id": "XESiWehPqBRc"
      }
    },
    {
      "cell_type": "markdown",
      "source": [
        "##### 2. What is/are the insight(s) found from the chart?"
      ],
      "metadata": {
        "id": "lQ7QKXXCp7Bj"
      }
    },
    {
      "cell_type": "markdown",
      "source": [
        "Most Common Ratings: The bar plot displays show counts for each rating category, identifying the most prevalent ratings on Netflix, like \"TV-MA\" and \"TV-14.\"\n",
        "\n",
        "Dominant Audience: It helps infer the target audience; higher-rated categories imply mature content, while lower-rated ones suggest family-friendly options.\n",
        "\n",
        "Imbalance in Ratings: The chart reveals rating distribution imbalances, indicating content preference and Netflix's strategic focus."
      ],
      "metadata": {
        "id": "C_j1G7yiqdRP"
      }
    },
    {
      "cell_type": "markdown",
      "source": [
        "##### 3. Will the gained insights help creating a positive business impact?\n",
        "Are there any insights that lead to negative growth? Justify with specific reason."
      ],
      "metadata": {
        "id": "448CDAPjqfQr"
      }
    },
    {
      "cell_type": "markdown",
      "source": [
        "Enhanced Content Strategy: Netflix can optimize its content strategy by aligning with prevalent ratings, attracting subscribers who prefer tailored content.\n",
        "\n",
        "Informed Content Decisions: Analyzing rating distribution guides content acquisition and production choices, catering to viewer demand.\n",
        "\n",
        "Personalized Recommendations: This analysis refines recommendation algorithms, providing subscribers with more accurate and engaging content suggestions.\n",
        "\n",
        "Challenges: Potential drawbacks include limited audience reach, regulatory constraints, and reduced content diversity, which could impact growth and inclusivity."
      ],
      "metadata": {
        "id": "3cspy4FjqxJW"
      }
    },
    {
      "cell_type": "markdown",
      "source": [
        "#### Chart - 2 Visualization of number of movies and tv shows"
      ],
      "metadata": {
        "id": "KSlN3yHqYklG"
      }
    },
    {
      "cell_type": "code",
      "source": [
        "# Chart - 2 visualization code\n",
        "# Visualization of number of movies and tv shows\n",
        "# Defining custom colors\n",
        "color_palette = ['#ff9999', '#66b3ff']\n",
        "\n",
        "# Setting the style\n",
        "sns.set_style('whitegrid')\n",
        "\n",
        "# Creating a new figure and axis\n",
        "fig, ax = plt.subplots(figsize=(8, 6))\n",
        "\n",
        "# Plot the count using seaborn's countplot with custom palette\n",
        "sns.countplot(x='type', data=netflix_df, palette=color_palette, ax=ax)\n",
        "\n",
        "# Labeling of values\n",
        "ax.set_title('Number of Movies and TV Shows', fontsize=14)\n",
        "ax.set_xlabel('Type', fontsize=12)\n",
        "ax.set_ylabel('Count', fontsize=12)\n",
        "\n",
        "# Visualization of number of movies and TV shows\n",
        "plt.show()"
      ],
      "metadata": {
        "id": "R4YgtaqtYklH"
      },
      "execution_count": null,
      "outputs": []
    },
    {
      "cell_type": "markdown",
      "source": [
        "##### 1. Why did you pick the specific chart?"
      ],
      "metadata": {
        "id": "t6dVpIINYklI"
      }
    },
    {
      "cell_type": "markdown",
      "source": [
        "Using a countplot, a type of bar chart, is an excellent option for visually representing categorical data like the number of movies and TV shows on Netflix. This method effectively illustrates the frequency of each category in a straightforward and easily understandable manner."
      ],
      "metadata": {
        "id": "5aaW0BYyYklI"
      }
    },
    {
      "cell_type": "markdown",
      "source": [
        "##### 2. What is/are the insight(s) found from the chart?"
      ],
      "metadata": {
        "id": "ijmpgYnKYklI"
      }
    },
    {
      "cell_type": "markdown",
      "source": [
        "Netflix's library comprises 5372 movies and 2398 TV shows, indicating that the number of movies available surpasses the number of TV shows on the platform."
      ],
      "metadata": {
        "id": "PSx9atu2YklI"
      }
    },
    {
      "cell_type": "markdown",
      "source": [
        "##### 3. Will the gained insights help creating a positive business impact?\n",
        "Are there any insights that lead to negative growth? Justify with specific reason."
      ],
      "metadata": {
        "id": "-JiQyfWJYklI"
      }
    },
    {
      "cell_type": "markdown",
      "source": [
        "Netflix's Movie-TV Show Ratio: While the balance between movies and TV shows may not be a sole business determinant, it informs strategic decisions. If subscribers favor TV shows, Netflix may prioritize acquiring more. Conversely, successful original movies may lead to resource allocation in that direction.\n",
        "\n",
        "Potential Negatives: The ratio itself may not harm, but neglecting preferences and persistently emphasizing movies may risk subscriber attrition. Rivals expanding TV show content might erode Netflix's market share if it doesn't respond."
      ],
      "metadata": {
        "id": "BcBbebzrYklV"
      }
    },
    {
      "cell_type": "markdown",
      "source": [
        "#### Chart - 3 Top 10 Genre in movies"
      ],
      "metadata": {
        "id": "EM7whBJCYoAo"
      }
    },
    {
      "cell_type": "code",
      "source": [
        "# Chart - 3 visualization code\n",
        "# Top 10 Genre in movies\n",
        "# Defining custom colors\n",
        "color_palette = sns.color_palette(\"husl\", 15)  # You can choose a different color palette if desired\n",
        "\n",
        "# Creating a figure and axis\n",
        "plt.figure(figsize=(15, 6))\n",
        "\n",
        "# Plot the top 10 genres in movies\n",
        "sns.barplot(x=netflix_df[\"listed_in\"].value_counts().head(15).index,\n",
        "            y=netflix_df[\"listed_in\"].value_counts().head(15).values, palette=color_palette)\n",
        "plt.xticks(rotation=45, ha=\"right\")  # Adjust rotation for better readability\n",
        "plt.title(\"Top 15 Genres in Movies\", size=16, fontweight=\"bold\", color=\"red\")\n",
        "plt.xlabel(\"Genre\", size=12)\n",
        "plt.ylabel(\"Count\", size=12)\n",
        "\n",
        "# Show the plot\n",
        "plt.show()"
      ],
      "metadata": {
        "id": "t6GMdE67YoAp"
      },
      "execution_count": null,
      "outputs": []
    },
    {
      "cell_type": "markdown",
      "source": [
        "##### 1. Why did you pick the specific chart?"
      ],
      "metadata": {
        "id": "fge-S5ZAYoAp"
      }
    },
    {
      "cell_type": "markdown",
      "source": [
        "I chose a bar chart for this analysis as it efficiently displays the top 10 movie genres. Vertical bars enable straightforward genre comparisons, with labels on the x-axis. A well-chosen color palette enhances clarity, offering a concise view of popular movie genres."
      ],
      "metadata": {
        "id": "5dBItgRVYoAp"
      }
    },
    {
      "cell_type": "markdown",
      "source": [
        "##### 2. What is/are the insight(s) found from the chart?"
      ],
      "metadata": {
        "id": "85gYPyotYoAp"
      }
    },
    {
      "cell_type": "markdown",
      "source": [
        "The chart showcases Netflix's top 10 movie genres, revealing user preferences and guiding content strategies."
      ],
      "metadata": {
        "id": "4jstXR6OYoAp"
      }
    },
    {
      "cell_type": "markdown",
      "source": [
        "##### 3. Will the gained insights help creating a positive business impact?\n",
        "Are there any insights that lead to negative growth? Justify with specific reason."
      ],
      "metadata": {
        "id": "RoGjAbkUYoAp"
      }
    },
    {
      "cell_type": "markdown",
      "source": [
        "Gained insights benefit Netflix by aligning its content with viewer preferences, potentially boosting engagement and attracting new subscribers. No negative growth indicators are evident; the focus is on enhancing user satisfaction and engagement through informed content and marketing strategies."
      ],
      "metadata": {
        "id": "zfJ8IqMcYoAp"
      }
    },
    {
      "cell_type": "markdown",
      "source": [
        "#### Chart - 4"
      ],
      "metadata": {
        "id": "FFYUjMXX8Q3H"
      }
    },
    {
      "cell_type": "code",
      "source": [
        "movies['year_added'] = netflix_df['date_added'].dt.year"
      ],
      "metadata": {
        "id": "7fymMM5hDk3H"
      },
      "execution_count": null,
      "outputs": []
    },
    {
      "cell_type": "code",
      "source": [
        "# Chart - 4 visualization code\n",
        "# Create a pie chart to visualize the percentage of original movies and non-original movies in the dataset\n",
        "fig, ax = plt.subplots(figsize=(5, 5), facecolor=\"#363336\")\n",
        "ax.patch.set_facecolor('#363336')\n",
        "\n",
        "# Specify the 'explode' parameter to create some separation between the slices\n",
        "explode = (0, 0.1)\n",
        "\n",
        "# Count the number of movies in each category (originals and others) using 'value_counts()'\n",
        "# Plot a pie chart with labels, percentages, and shadows using the 'ax.pie()' method\n",
        "# Change the colors of the pie chart slices to more attractive colors\n",
        "colors = ['#ff9999', '#66b3ff']\n",
        "labels = ['Others', 'Originals']\n",
        "sizes = movies['originals'].value_counts()\n",
        "ax.pie(sizes, explode=explode, autopct='%.2f%%', labels=labels,\n",
        "       shadow=True, startangle=90, textprops={'color': \"black\", 'fontsize': 20},\n",
        "       colors=colors)\n",
        "\n",
        "# Set the title for the plot\n",
        "ax.set_title(\"Percentage of Originals vs Others in Movies\", color='white', fontsize=20)\n",
        "\n",
        "# Display the pie chart\n",
        "plt.show()\n"
      ],
      "metadata": {
        "id": "s9fBuS228bP1"
      },
      "execution_count": null,
      "outputs": []
    },
    {
      "cell_type": "markdown",
      "source": [
        "##### 1. Why did you pick the specific chart?"
      ],
      "metadata": {
        "id": "3BZStxpI84Gs"
      }
    },
    {
      "cell_type": "markdown",
      "source": [
        "The pie chart was used in the provided code to visually represent the percentage distribution of original movies and non-original movies in the dataset. Pie charts are commonly used to display how a single whole (100%) is divided into various parts, showing the proportion of each part relative to the whole."
      ],
      "metadata": {
        "id": "j9SZLOUY84Gt"
      }
    },
    {
      "cell_type": "markdown",
      "source": [
        "##### 2. What is/are the insight(s) found from the chart?"
      ],
      "metadata": {
        "id": "auqOz1P69EKH"
      }
    },
    {
      "cell_type": "markdown",
      "source": [
        "While Netflix is known for its original content, only 30% of its movie library is actually Netflix-produced. The remaining 70% comprises films acquired from various sources, including theaters and other streaming platforms. This highlights the platform's extensive collection, offering diverse content from around the world, from classic Hollywood to foreign cinema. So, as you explore Netflix's vast movie selection, keep in mind that the majority is acquired content, providing a wealth of entertainment choices."
      ],
      "metadata": {
        "id": "dOrWGnbx9EKI"
      }
    },
    {
      "cell_type": "markdown",
      "source": [
        "##### 3. Will the gained insights help creating a positive business impact?\n",
        "Are there any insights that lead to negative growth? Justify with specific reason."
      ],
      "metadata": {
        "id": "DX86eIaz9e1a"
      }
    },
    {
      "cell_type": "markdown",
      "source": [
        "1. Netflix's ability to acquire 70% of its movie content from other sources underscores its cost-effective strategy in offering a diverse range of successful films without the need for extensive original production.\n",
        "\n",
        "2. The presence of 30% original movies showcases Netflix's investment in exclusive content, setting it apart from competitors and attracting new viewers.\n",
        "\n",
        "However, if Netflix fails to match the appeal of acquired content with its originals, it could face subscriber attrition. Over-reliance on acquisitions may also lead to costly licensing negotiations and impact profitability."
      ],
      "metadata": {
        "id": "wmbC56Ni9e1b"
      }
    },
    {
      "cell_type": "markdown",
      "source": [
        "**BIVARIATE ANALYSIS :-**"
      ],
      "metadata": {
        "id": "L_a8DaYFRhDD"
      }
    },
    {
      "cell_type": "markdown",
      "source": [
        "#### Chart - 5  Analysis on release year of movies and tv shows"
      ],
      "metadata": {
        "id": "4Of9eVA-YrdM"
      }
    },
    {
      "cell_type": "code",
      "source": [
        "# Chart - 5 visualization code\n",
        "# creating two extra column\n",
        "tv_shows = netflix_df[netflix_df['type'] == 'TV Show']\n",
        "movies = netflix_df[netflix_df['type'] == 'Movie']\n",
        "\n",
        "# Creating a figure with subplots\n",
        "plt.figure(figsize=(12, 10))\n",
        "\n",
        "# Defining colors for the plots\n",
        "color_palette = sns.color_palette(\"coolwarm\", 15)\n",
        "\n",
        "# Analysis on release year of movie show\n",
        "plt.subplot(2, 1, 1)\n",
        "sns.countplot(y=\"release_year\", data=movies, palette=color_palette,\n",
        "              order=movies['release_year'].value_counts().index[0:15])\n",
        "plt.title('ANALYSIS ON RELEASE YEAR OF MOVIES', fontsize=15, fontweight='bold', color='red')\n",
        "\n",
        "# Analysis release year of TV show\n",
        "plt.subplot(2, 1, 2)\n",
        "sns.countplot(y=\"release_year\", data=tv_shows, palette=color_palette,\n",
        "              order=tv_shows['release_year'].value_counts().index[0:15])\n",
        "plt.title('ANALYSIS ON RELEASE YEAR OF TV SHOWS', fontsize=15, fontweight='bold', color='red')\n",
        "\n",
        "plt.tight_layout()\n",
        "plt.show()"
      ],
      "metadata": {
        "id": "irlUoxc8YrdO"
      },
      "execution_count": null,
      "outputs": []
    },
    {
      "cell_type": "markdown",
      "source": [
        "##### 1. Why did you pick the specific chart?"
      ],
      "metadata": {
        "id": "iky9q4vBYrdO"
      }
    },
    {
      "cell_type": "markdown",
      "source": [
        "I chose the \"countplot\" because it's great for visualizing categorical data like release years for movies and TV shows. It uses vertical bars to show category counts, making comparisons easy. Subplots and ordered categories help highlight the most common release years for both types effectively."
      ],
      "metadata": {
        "id": "aJRCwT6DYrdO"
      }
    },
    {
      "cell_type": "markdown",
      "source": [
        "##### 2. What is/are the insight(s) found from the chart?"
      ],
      "metadata": {
        "id": "F6T5p64dYrdO"
      }
    },
    {
      "cell_type": "markdown",
      "source": [
        "The chart unveils release year trends for movies and TV shows, emphasizing popular periods and production patterns. It facilitates medium comparisons and illuminates content growth and viewer preferences. Insights into production cycles and audience engagement trends are valuable for content creation decisions."
      ],
      "metadata": {
        "id": "Xx8WAJvtYrdO"
      }
    },
    {
      "cell_type": "markdown",
      "source": [
        "##### 3. Will the gained insights help creating a positive business impact?\n",
        "Are there any insights that lead to negative growth? Justify with specific reason."
      ],
      "metadata": {
        "id": "y-Ehk30pYrdP"
      }
    },
    {
      "cell_type": "markdown",
      "source": [
        "Positive Business Impact: Gained insights can positively influence content planning, targeted marketing, revenue generation, resource allocation, and audience engagement.\n",
        "\n",
        "Potential for Negative Growth: Overreliance on trends, neglecting creativity, cyclical downturns, and disregarding evolving audience preferences could lead to negative growth despite insights."
      ],
      "metadata": {
        "id": "jLNxxz7MYrdP"
      }
    },
    {
      "cell_type": "markdown",
      "source": [
        "#### Chart - 6 Analysing the top 15 countries with the most content"
      ],
      "metadata": {
        "id": "bamQiAODYuh1"
      }
    },
    {
      "cell_type": "code",
      "source": [
        "# Chart - 6 visualization code\n",
        "# Analysing the top 15 countries with the most content\n",
        "plt.figure(figsize=(10, 6))  # Set the figure size for the plot\n",
        "\n",
        "# Create a custom color palette for the graph\n",
        "color_palette = [\"#ff9999\", \"#66b3ff\"]\n",
        "\n",
        "# Create a count plot using seaborn to visualize the top 15 countries with the most content\n",
        "sns.countplot(x=netflix_df['country'], palette=color_palette,\n",
        "              order=netflix_df['country'].value_counts().index[:15], hue=netflix_df['type'])\n",
        "\n",
        "# Rotate x-axis labels for better readability\n",
        "plt.xticks(rotation=45, ha='right', fontsize=10)\n",
        "\n",
        "# Set the title, title color in red, x label color in blue, and y label color in blue\n",
        "plt.title('Top 15 Countries with Most Content on Netflix', fontsize=16, fontweight='bold', color='red')\n",
        "plt.xlabel('Country', fontsize=12, color='blue')\n",
        "plt.ylabel('Content Count', fontsize=12, color='blue')\n",
        "\n",
        "# Add a legend to differentiate between 'Movie' and 'TV Show' types\n",
        "plt.legend(title='Type', title_fontsize=10, fontsize=8)\n",
        "\n",
        "# Add a grid for easier data reading\n",
        "plt.grid(axis='y', linestyle='--', alpha=0.7)\n",
        "\n",
        "# Adjust plot layout for better spacing\n",
        "plt.tight_layout()\n",
        "\n",
        "# Display the plot\n",
        "plt.show()\n"
      ],
      "metadata": {
        "id": "TIJwrbroYuh3"
      },
      "execution_count": null,
      "outputs": []
    },
    {
      "cell_type": "markdown",
      "source": [
        "##### 1. Why did you pick the specific chart?"
      ],
      "metadata": {
        "id": "QHF8YVU7Yuh3"
      }
    },
    {
      "cell_type": "markdown",
      "source": [
        "The selected chart, a bar plot with hue differentiation, effectively presents the distribution of content across the top 15 countries while highlighting the types of content in an easily comprehensible manner."
      ],
      "metadata": {
        "id": "dcxuIMRPYuh3"
      }
    },
    {
      "cell_type": "markdown",
      "source": [
        "##### 2. What is/are the insight(s) found from the chart?"
      ],
      "metadata": {
        "id": "GwzvFGzlYuh3"
      }
    },
    {
      "cell_type": "markdown",
      "source": [
        "The chart reveals the content distribution across the leading 15 countries, showcasing the content type proportions within each country, which can inform content acquisition strategies."
      ],
      "metadata": {
        "id": "uyqkiB8YYuh3"
      }
    },
    {
      "cell_type": "markdown",
      "source": [
        "##### 3. Will the gained insights help creating a positive business impact?\n",
        "Are there any insights that lead to negative growth? Justify with specific reason."
      ],
      "metadata": {
        "id": "qYpmQ266Yuh3"
      }
    },
    {
      "cell_type": "markdown",
      "source": [
        "Certainly, these insights empower informed decisions, potentially leading to targeted content investments and content acquisition agreements for improved viewer engagement and business growth."
      ],
      "metadata": {
        "id": "_WtzZ_hCYuh4"
      }
    },
    {
      "cell_type": "markdown",
      "source": [
        "#### Chart - 7 Ratings for movies and tv shows."
      ],
      "metadata": {
        "id": "OH-pJp9IphqM"
      }
    },
    {
      "cell_type": "code",
      "source": [
        "# Chart - 7 visualization code\n",
        "# Define the order of ratings\n",
        "order = ['G', 'TV-Y', 'TV-G', 'PG', 'TV-Y7', 'TV-Y7-FV', 'TV-PG', 'PG-13', 'TV-14', 'R', 'NC-17', 'TV-MA']\n",
        "\n",
        "# Create subplots with custom colors\n",
        "fig, axes = plt.subplots(1, 2, figsize=(19, 5))\n",
        "\n",
        "# Countplot for Movies with a custom color palette\n",
        "sns.countplot(data=netflix_df, x='rating', order=order, palette=\"Blues\", ax=axes[0])\n",
        "axes[0].set_title(\"Ratings for Movies\", color='red')\n",
        "axes[0].set_xlabel(\"Rating\", color='blue')\n",
        "axes[0].set_ylabel(\"Total Count\", color='blue')\n",
        "\n",
        "# Countplot for TV Shows with a custom color palette\n",
        "sns.countplot(data=netflix_df, x='rating', order=order, palette=\"Greens\", ax=axes[1])\n",
        "axes[1].set(yticks=np.arange(0, 1600, 200))\n",
        "axes[1].set_title(\"Ratings for TV Shows\", color='red')\n",
        "axes[1].set_xlabel(\"Rating\", color='blue')\n",
        "axes[1].set_ylabel(\"Total Count\", color='blue')\n",
        "\n",
        "# Adjust layout\n",
        "plt.tight_layout()\n",
        "\n",
        "# Display the plot\n",
        "plt.show()"
      ],
      "metadata": {
        "id": "kuRf4wtuphqN"
      },
      "execution_count": null,
      "outputs": []
    },
    {
      "cell_type": "markdown",
      "source": [
        "##### 1. Why did you pick the specific chart?"
      ],
      "metadata": {
        "id": "bbFf2-_FphqN"
      }
    },
    {
      "cell_type": "markdown",
      "source": [
        "I used side-by-side countplots to compare content ratings for movies and TV shows. This format simplifies the comparison, and the ordered x-axis makes it easy to see rating distributions across categories."
      ],
      "metadata": {
        "id": "loh7H2nzphqN"
      }
    },
    {
      "cell_type": "markdown",
      "source": [
        "##### 2. What is/are the insight(s) found from the chart?"
      ],
      "metadata": {
        "id": "_ouA3fa0phqN"
      }
    },
    {
      "cell_type": "markdown",
      "source": [
        "The chart shows Netflix's content ratings distribution for movies and TV shows. \"TV-MA\" is the most common rating for both, followed by \"TV-14\" and \"TV-PG\" for TV shows, and \"R\" for movies. This suggests a focus on mature audiences, reflecting diverse content preferences."
      ],
      "metadata": {
        "id": "VECbqPI7phqN"
      }
    },
    {
      "cell_type": "markdown",
      "source": [
        "##### 3. Will the gained insights help creating a positive business impact?\n",
        "Are there any insights that lead to negative growth? Justify with specific reason."
      ],
      "metadata": {
        "id": "Seke61FWphqN"
      }
    },
    {
      "cell_type": "markdown",
      "source": [
        "These insights can benefit Netflix by tailoring content to viewer preferences and demographics, potentially boosting engagement, satisfaction, and user retention. While the chart itself doesn't suggest negative growth, an imbalance favoring mature content over others could alienate some viewers. Maintaining a balanced content library across ratings can mitigate this and foster growth by appealing to a wider audience."
      ],
      "metadata": {
        "id": "DW4_bGpfphqN"
      }
    },
    {
      "cell_type": "markdown",
      "source": [
        "#### Chart - 8 Analysis of Tv shows and Movies genres."
      ],
      "metadata": {
        "id": "YJ55k-q6phqO"
      }
    },
    {
      "cell_type": "code",
      "source": [
        "# Chart - 8 visualization code\n",
        "# Set the figure size for the side-by-side plots.\n",
        "plt.figure(figsize=(16, 6))\n",
        "\n",
        "# Define custom colors for the plots\n",
        "custom_colors = [\"#1f77b4\", \"#ff7f0e\"]\n",
        "\n",
        "# Analysis of TV shows listed in different categories\n",
        "plt.subplot(1, 2, 1)  # Create the left subplot for TV shows.\n",
        "sns.countplot(y=\"listed_in\", data=tv_shows, palette=custom_colors,\n",
        "              order=tv_shows['listed_in'].value_counts().index[0:15])  # Displaying top 15 categories.\n",
        "plt.title('ANALYSIS OF TV SHOW GENRES', fontsize=15, fontweight='bold', color='red')  # Set title and font.\n",
        "plt.xlabel(\"Count\")  # Set x-axis label.\n",
        "\n",
        "# Analysis of movie shows listed in different categories\n",
        "plt.subplot(1, 2, 2)  # Create the right subplot for movie shows.\n",
        "sns.countplot(y=\"listed_in\", data=movies, palette=custom_colors,\n",
        "              order=movies['listed_in'].value_counts().index[0:15])  # Displaying top 15 categories.\n",
        "plt.title('ANALYSIS OF MOVIE GENRES', fontsize=15, fontweight='bold', color='red')  # Set title and font.\n",
        "plt.xlabel(\"Count\")  # Set x-axis label.\n",
        "\n",
        "plt.tight_layout()  # Adjust the spacing between subplots.\n",
        "plt.show()  # Display the subplots.\n"
      ],
      "metadata": {
        "id": "B2aS4O1ophqO"
      },
      "execution_count": null,
      "outputs": []
    },
    {
      "cell_type": "markdown",
      "source": [
        "##### 1. Why did you pick the specific chart?"
      ],
      "metadata": {
        "id": "gCFgpxoyphqP"
      }
    },
    {
      "cell_type": "markdown",
      "source": [
        "Subplots were chosen to analyze TV show and movie categories side by side, aiding direct comparison and identification of genre preferences."
      ],
      "metadata": {
        "id": "TVxDimi2phqP"
      }
    },
    {
      "cell_type": "markdown",
      "source": [
        "##### 2. What is/are the insight(s) found from the chart?"
      ],
      "metadata": {
        "id": "OVtJsKN_phqQ"
      }
    },
    {
      "cell_type": "markdown",
      "source": [
        "Insights from the subplots: The subplots provide a clear overview of the most popular genres for TV shows and movies. They highlight viewer preferences and help in strategic programming decisions."
      ],
      "metadata": {
        "id": "ngGi97qjphqQ"
      }
    },
    {
      "cell_type": "markdown",
      "source": [
        "##### 3. Will the gained insights help creating a positive business impact?\n",
        "Are there any insights that lead to negative growth? Justify with specific reason."
      ],
      "metadata": {
        "id": "lssrdh5qphqQ"
      }
    },
    {
      "cell_type": "markdown",
      "source": [
        "Positive business impact: Yes, insights can drive content strategy. Recognizing popular genres can lead to curated content, attracting and retaining a more engaged audience.\n",
        "\n",
        "Negative growth insights: If specific genres show disproportionately low interest, it might indicate a lack of engagement in those areas. Adjusting content offerings can address potential negative impact."
      ],
      "metadata": {
        "id": "tBpY5ekJphqQ"
      }
    },
    {
      "cell_type": "markdown",
      "source": [
        "**MULTIVARIATE ANALYSIS :-**"
      ],
      "metadata": {
        "id": "2UkQxiBKYLQW"
      }
    },
    {
      "cell_type": "markdown",
      "source": [
        "#### Chart - 9  The distribution of content across different countries."
      ],
      "metadata": {
        "id": "PIIx-8_IphqN"
      }
    },
    {
      "cell_type": "code",
      "source": [
        "# Chart - 9 visualization code\n",
        "country = netflix_df.country.value_counts()\n",
        "\n",
        "coun = {}\n",
        "\n",
        "# Loop through countries\n",
        "for idx, val in country.items():\n",
        "    l = idx.split(',')\n",
        "    for i in l:\n",
        "        i = i.strip()\n",
        "        if i in coun.keys():\n",
        "            d = {}\n",
        "            d[i] = val + coun[i]\n",
        "            coun.update(d)\n",
        "        else:\n",
        "            d = {i: val}\n",
        "            coun.update(d)\n",
        "\n",
        "# Create lists for nations and counts\n",
        "nation, count = [], []\n",
        "for idx, val in coun.items():\n",
        "    nation.append(idx)\n",
        "    count.append(val)\n",
        "\n",
        "# Create a DataFrame\n",
        "temp = (pd.DataFrame({'country': nation, 'count': count})\n",
        "        .sort_values('count', ascending=False))\n",
        "\n",
        "# Set color based on count for visualization\n",
        "temp['color'] = temp['count'].apply(lambda x: '#b20710' if x > temp['count'].values[30] else 'grey')\n",
        "\n",
        "# Load geospatial data\n",
        "world = gpd.read_file(gpd.datasets.get_path('naturalearth_lowres'))\n",
        "\n",
        "# Convert country names to ISO codes\n",
        "temp['iso_code'] = coco.convert(names=temp['country'], to='ISO3')\n",
        "temp = temp[temp['iso_code'] != 'not found']\n",
        "\n",
        "# Merge geospatial data with DataFrame\n",
        "temp_map = world.merge(temp, left_on='iso_a3', right_on='iso_code')\n",
        "\n",
        "# Drop unnecessary columns\n",
        "temp_map.drop(columns=['continent', 'gdp_md_est', 'pop_est', 'name'], inplace=True)\n",
        "temp_map = temp_map.sort_values(by='count', ascending=False)\n",
        "\n",
        "# Visualization setup\n",
        "colors = ['#FF1493', 'grey', '#FF1493']\n",
        "\n",
        "fig, ax = plt.subplots(figsize=(15, 7.5), dpi=80)\n",
        "fig.patch.set_facecolor('#FFF8DC')\n",
        "ax.set_facecolor('#FFF8DC')\n",
        "\n",
        "# Create a choropleth map\n",
        "temp_map.dropna().plot(column='count',\n",
        "                       color=temp_map.dropna()['color'],\n",
        "                       legend=False,\n",
        "                       ax=ax)\n",
        "\n",
        "# Enhance the visualization\n",
        "for loc in ['left', 'right', 'top', 'bottom']:\n",
        "    ax.spines[loc].set_visible(False)\n",
        "ax.axes.get_xaxis().set_visible(False)\n",
        "ax.axes.get_yaxis().set_visible(False)\n",
        "\n",
        "# Display the plot\n",
        "plt.show()\n"
      ],
      "metadata": {
        "id": "lqAIGUfyphqO"
      },
      "execution_count": null,
      "outputs": []
    },
    {
      "cell_type": "markdown",
      "source": [
        "##### 1. Why did you pick the specific chart?"
      ],
      "metadata": {
        "id": "t27r6nlMphqO"
      }
    },
    {
      "cell_type": "markdown",
      "source": [
        "The chosen chart, a choropleth map, was selected to visually represent the distribution of content across different countries. It effectively communicates geographical disparities in content counts by using colors to indicate varying levels of content availability. This type of map is particularly suited for showcasing content data on a global scale, making it easier to identify regions with high and low content counts."
      ],
      "metadata": {
        "id": "iv6ro40sphqO"
      }
    },
    {
      "cell_type": "markdown",
      "source": [
        "##### 2. What is/are the insight(s) found from the chart?"
      ],
      "metadata": {
        "id": "r2jJGEOYphqO"
      }
    },
    {
      "cell_type": "markdown",
      "source": [
        "The choropleth map provides insights into the distribution of content across different countries. Some of the insights gained from the chart include:\n",
        "\n",
        "Content Concentration: The map highlights countries with the highest content counts, such as the United States, India, and the United Kingdom, which are shown in prominent colors. These countries seem to have a significant amount of content available on the platform.\n",
        "\n",
        "Global Variability: The varying shades of color across different countries indicate the diversity in content availability. Some countries appear to have limited content, while others have a more extensive range.\n",
        "\n",
        "Content Deserts: Regions with lighter colors suggest areas with relatively lower content counts. These areas might be underserved in terms of available content options.\n",
        "\n",
        "Regional Patterns: The map allows us to observe regional trends, with neighboring countries often having similar color shades, indicating similar content availability.\n",
        "\n",
        "Content Gaps: Countries with darker colors might indicate high content counts, but they could also signify that a large amount of content caters to a specific audience or language group.\n",
        "\n",
        "Platform Penetration: The map indirectly reflects the platform's popularity in different regions based on content counts.\n",
        "\n",
        "Potential Growth Areas: Lighter-colored countries might represent potential growth areas for the platform to expand its content library and user base.\n",
        "\n",
        "Overall, the chart provides a visual summary of content distribution, aiding in identifying content-rich regions, potential growth opportunities, and areas where content diversity could be improved."
      ],
      "metadata": {
        "id": "Po6ZPi4hphqO"
      }
    },
    {
      "cell_type": "markdown",
      "source": [
        "##### 3. Will the gained insights help creating a positive business impact?\n",
        "Are there any insights that lead to negative growth? Justify with specific reason."
      ],
      "metadata": {
        "id": "b0JNsNcRphqO"
      }
    },
    {
      "cell_type": "markdown",
      "source": [
        "The choropleth map insights can drive both positive and negative impacts for the streaming platform:\n",
        "\n",
        "Positive Impact:\n",
        "\n",
        "* Targeted Expansion: Identifying high-demand regions suggests where expansion can yield positive results.\n",
        "\n",
        "* Localized Content: Knowing regional preferences guides tailored content, boosting engagement.\n",
        "\n",
        "* Localization Efforts: Translation and subtitles can attract diverse audiences in content-limited regions.\n",
        "\n",
        "* Advertising Revenue: Content-rich regions inform targeted ad campaigns, maximizing revenue.\n",
        "\n",
        "Negative Growth Potential:\n",
        "\n",
        "* Saturation Concerns: Overloading saturated markets may lead to content fatigue and reduced engagement.\n",
        "\n",
        "* Neglected Markets: Focusing on content-rich areas might miss growth opportunities in untapped regions.\n",
        "\n",
        "* Language & Culture: Limiting content to specific languages can hinder engagement in diverse regions.\n",
        "\n",
        "* Market Competition: Rivals may intensify efforts in content-rich regions, impacting market share."
      ],
      "metadata": {
        "id": "xvSq8iUTphqO"
      }
    },
    {
      "cell_type": "markdown",
      "source": [
        "#### Chart - 10  WordCloud of the Title"
      ],
      "metadata": {
        "id": "BZR9WyysphqO"
      }
    },
    {
      "cell_type": "code",
      "source": [
        "# Chart - 10 visualization code\n",
        "\n",
        "# Combine all the titles into a single text\n",
        "text = \" \".join(word for word in netflix_df['title'])\n",
        "\n",
        "# Create the WordCloud object\n",
        "wordcloud = WordCloud(width=800, height=500, background_color='white', stopwords=STOPWORDS, min_font_size=10, colormap='viridis')\n",
        "\n",
        "# Generate the word cloud from the text\n",
        "wordcloud.generate(text)\n",
        "\n",
        "# Create a figure and axis\n",
        "fig, ax = plt.subplots(figsize=(10, 6))\n",
        "\n",
        "# Display the word cloud using imshow\n",
        "ax.imshow(wordcloud, interpolation='bilinear')\n",
        "ax.set_axis_off()  # Turn off axis\n",
        "\n",
        "# Set a title for the plot\n",
        "ax.set_title(\"Word Cloud of Titles\", fontsize=16, fontweight='bold', color='red')\n",
        "\n",
        "# Show the plot\n",
        "plt.tight_layout()\n",
        "plt.show()"
      ],
      "metadata": {
        "id": "TdPTWpAVphqO"
      },
      "execution_count": null,
      "outputs": []
    },
    {
      "cell_type": "markdown",
      "source": [
        "##### 1. Why did you pick the specific chart?"
      ],
      "metadata": {
        "id": "jj7wYXLtphqO"
      }
    },
    {
      "cell_type": "markdown",
      "source": [
        "I chose the word cloud chart to visualize the most frequent words in content titles. It offers a quick, visually engaging way to grasp the prominent keywords and themes, aiding in understanding content focus without exhaustive analysis. It's an effective, at-a-glance summary tool."
      ],
      "metadata": {
        "id": "Ob8u6rCTphqO"
      }
    },
    {
      "cell_type": "markdown",
      "source": [
        "##### 2. What is/are the insight(s) found from the chart?"
      ],
      "metadata": {
        "id": "eZrbJ2SmphqO"
      }
    },
    {
      "cell_type": "markdown",
      "source": [
        "The word cloud highlights prominent words in content titles, offering insights:\n",
        "\n",
        "* Genres: \"Love,\" \"Story,\" \"Life,\" and \"World\" suggest a focus on emotional storytelling.\n",
        "* Action & Adventure: \"Action,\" \"Adventure,\" \"Battle,\" and \"War\" signify action-packed content.\n",
        "* Fantasy: \"Magic,\" \"Fantasy,\" and \"Kingdom\" point to a strong presence of fantasy themes.\n",
        "* Comedy: The term \"Comedy\" hints at humorous content.\n",
        "* Mystery & Thriller: \"Mystery,\" \"Crime,\" \"Murder,\" and \"Suspense\" imply mystery and suspense elements.\n",
        "* Cultural & Historical: \"History,\" \"Cultural,\" \"Documentary,\" and \"Ancient\" suggest historical and cultural themes.\n",
        "* Education & Learning: Words like \"Learn,\" \"Educational,\" and \"School\" indicate educational content.\n",
        "These insights provide a broad overview of prevalent content themes, although quantitative analysis is required for precise theme distribution."
      ],
      "metadata": {
        "id": "mZtgC_hjphqO"
      }
    },
    {
      "cell_type": "markdown",
      "source": [
        "##### 3. Will the gained insights help creating a positive business impact?\n",
        "Are there any insights that lead to negative growth? Justify with specific reason."
      ],
      "metadata": {
        "id": "rFu4xreNphqO"
      }
    },
    {
      "cell_type": "markdown",
      "source": [
        "The word cloud insights can positively impact content strategies but don't inherently indicate negative growth.\n",
        "\n",
        "Positive Impact: Valuable for tailoring offerings to match popular themes and genres.\n",
        "\n",
        "No Negative Growth Insights: The word cloud doesn't highlight declining trends or negative impacts; it focuses on frequently occurring terms in titles."
      ],
      "metadata": {
        "id": "ey_0qi68phqO"
      }
    },
    {
      "cell_type": "markdown",
      "source": [
        "#### Chart - 11 - Correlation Heatmap"
      ],
      "metadata": {
        "id": "NC_X3p0fY2L0"
      }
    },
    {
      "cell_type": "code",
      "source": [
        "# Correlation Heatmap visualization code\n",
        "# Creating two extra columns for TV shows and movies\n",
        "tv_shows = netflix_df[netflix_df['type'] == 'TV Show']  # Filter rows with 'TV Show' type into a new DataFrame 'tv_shows'.\n",
        "movies = netflix_df[netflix_df['type'] == 'Movie']  # Filter rows with 'Movie' type into a new DataFrame 'movies'.\n",
        "\n",
        "# Assigning the Ratings into grouped categories\n",
        "ratings = {\n",
        "    'TV-PG': 'Older Kids',\n",
        "    'TV-MA': 'Adults',\n",
        "    'TV-Y7-FV': 'Older Kids',\n",
        "    'TV-Y7': 'Older Kids',\n",
        "    'TV-14': 'Teens',\n",
        "    'R': 'Adults',\n",
        "    'TV-Y': 'Kids',\n",
        "    'NR': 'Adults',\n",
        "    'PG-13': 'Teens',\n",
        "    'TV-G': 'Kids',\n",
        "    'PG': 'Older Kids',\n",
        "    'G': 'Kids',\n",
        "    'UR': 'Adults',\n",
        "    'NC-17': 'Adults'\n",
        "}\n",
        "netflix_df['target_ages'] = netflix_df['rating'].replace(ratings)  # Create a new column 'target_ages' by mapping ratings to grouped categories.\n",
        "# Group the data by country and calculate the count of content for each country.\n",
        "netflix_df['count'] = 1\n",
        "data = netflix_df.groupby('country')[['country', 'count']].sum().sort_values(by='count', ascending=False).reset_index()[:10]\n",
        "data = data['country']\n",
        "\n",
        "# Filter the original DataFrame based on the top 10 countries with the highest content count.\n",
        "df_heatmap = netflix_df.loc[netflix_df['country'].isin(data)]\n",
        "\n",
        "# Create a cross-tabulation of 'target_ages' and 'country' columns to get the normalized percentage of each target age group for each country.\n",
        "df_heatmap = pd.crosstab(df_heatmap['country'], df_heatmap['target_ages'], normalize=\"index\").T\n",
        "\n",
        "# Display the resulting DataFrame that will be used for the heatmap.\n",
        "df_heatmap"
      ],
      "metadata": {
        "id": "xyC9zolEZNRQ"
      },
      "execution_count": null,
      "outputs": []
    },
    {
      "cell_type": "code",
      "source": [
        "# Correlation Heatmap visualization code\n",
        "# Set the figure size for the plot\n",
        "plt.figure(figsize=(15, 6))\n",
        "\n",
        "# Create a heatmap using Seaborn\n",
        "sns.heatmap(df_heatmap, cmap='RdGy', annot=True, fmt=\".1%\", cbar=False)\n",
        "\n",
        "# Set the title and font properties\n",
        "plt.title('Normalized Content Distribution by Target Age Group for Top 10 Countries', fontsize=15, fontweight='bold', color='red')\n",
        "\n",
        "# Set x and y axis labels and their font properties\n",
        "plt.xlabel('Country', fontsize=12,color='blue')\n",
        "plt.ylabel('Age Group', fontsize=12,color='blue')\n",
        "\n",
        "# Display the heatmap with the updated color map\n",
        "plt.show()"
      ],
      "metadata": {
        "id": "hE24wqP7fQOJ"
      },
      "execution_count": null,
      "outputs": []
    },
    {
      "cell_type": "markdown",
      "source": [
        "##### 1. Why did you pick the specific chart?"
      ],
      "metadata": {
        "id": "UV0SzAkaZNRQ"
      }
    },
    {
      "cell_type": "markdown",
      "source": [
        "I chose a heatmap because it effectively visualizes the normalized content distribution across different target age groups for the top 10 countries. The heatmap provides a clear and concise overview of how content is distributed among various age groups for each country. The color scale allows for quick identification of patterns and trends in content distribution."
      ],
      "metadata": {
        "id": "DVPuT8LYZNRQ"
      }
    },
    {
      "cell_type": "markdown",
      "source": [
        "##### 2. What is/are the insight(s) found from the chart?"
      ],
      "metadata": {
        "id": "YPEH6qLeZNRQ"
      }
    },
    {
      "cell_type": "markdown",
      "source": [
        "The heatmap reveals content distribution among age groups in the top 10 countries. Darker areas signify concentrated content, while lighter areas indicate a balanced distribution. This insight guides age-based content strategies regionally."
      ],
      "metadata": {
        "id": "bfSqtnDqZNRR"
      }
    },
    {
      "cell_type": "markdown",
      "source": [
        "## ***5. Hypothesis Testing***"
      ],
      "metadata": {
        "id": "g-ATYxFrGrvw"
      }
    },
    {
      "cell_type": "markdown",
      "source": [
        "### Based on your chart experiments, define three hypothetical statements from the dataset. In the next three questions, perform hypothesis testing to obtain final conclusion about the statements through your code and statistical testing."
      ],
      "metadata": {
        "id": "Yfr_Vlr8HBkt"
      }
    },
    {
      "cell_type": "markdown",
      "source": [
        "Answer Here."
      ],
      "metadata": {
        "id": "-7MS06SUHkB-"
      }
    },
    {
      "cell_type": "markdown",
      "source": [
        "### Hypothetical Statement - 1"
      ],
      "metadata": {
        "id": "8yEUt7NnHlrM"
      }
    },
    {
      "cell_type": "markdown",
      "source": [
        "#### 1. State Your research hypothesis as a null hypothesis and alternate hypothesis."
      ],
      "metadata": {
        "id": "tEA2Xm5dHt1r"
      }
    },
    {
      "cell_type": "markdown",
      "source": [
        "Answer Here."
      ],
      "metadata": {
        "id": "HI9ZP0laH0D-"
      }
    },
    {
      "cell_type": "markdown",
      "source": [
        "#### 2. Perform an appropriate statistical test."
      ],
      "metadata": {
        "id": "I79__PHVH19G"
      }
    },
    {
      "cell_type": "code",
      "source": [
        "# Perform Statistical Test to obtain P-Value"
      ],
      "metadata": {
        "id": "oZrfquKtyian"
      },
      "execution_count": null,
      "outputs": []
    },
    {
      "cell_type": "markdown",
      "source": [
        "##### Which statistical test have you done to obtain P-Value?"
      ],
      "metadata": {
        "id": "Ou-I18pAyIpj"
      }
    },
    {
      "cell_type": "markdown",
      "source": [
        "Answer Here."
      ],
      "metadata": {
        "id": "s2U0kk00ygSB"
      }
    },
    {
      "cell_type": "markdown",
      "source": [
        "##### Why did you choose the specific statistical test?"
      ],
      "metadata": {
        "id": "fF3858GYyt-u"
      }
    },
    {
      "cell_type": "markdown",
      "source": [
        "Answer Here."
      ],
      "metadata": {
        "id": "HO4K0gP5y3B4"
      }
    },
    {
      "cell_type": "markdown",
      "source": [
        "### Hypothetical Statement - 2"
      ],
      "metadata": {
        "id": "4_0_7-oCpUZd"
      }
    },
    {
      "cell_type": "markdown",
      "source": [
        "#### 1. State Your research hypothesis as a null hypothesis and alternate hypothesis."
      ],
      "metadata": {
        "id": "hwyV_J3ipUZe"
      }
    },
    {
      "cell_type": "markdown",
      "source": [
        "Answer Here."
      ],
      "metadata": {
        "id": "FnpLGJ-4pUZe"
      }
    },
    {
      "cell_type": "markdown",
      "source": [
        "#### 2. Perform an appropriate statistical test."
      ],
      "metadata": {
        "id": "3yB-zSqbpUZe"
      }
    },
    {
      "cell_type": "code",
      "source": [
        "# Perform Statistical Test to obtain P-Value"
      ],
      "metadata": {
        "id": "sWxdNTXNpUZe"
      },
      "execution_count": null,
      "outputs": []
    },
    {
      "cell_type": "markdown",
      "source": [
        "##### Which statistical test have you done to obtain P-Value?"
      ],
      "metadata": {
        "id": "dEUvejAfpUZe"
      }
    },
    {
      "cell_type": "markdown",
      "source": [
        "Answer Here."
      ],
      "metadata": {
        "id": "oLDrPz7HpUZf"
      }
    },
    {
      "cell_type": "markdown",
      "source": [
        "##### Why did you choose the specific statistical test?"
      ],
      "metadata": {
        "id": "Fd15vwWVpUZf"
      }
    },
    {
      "cell_type": "markdown",
      "source": [
        "Answer Here."
      ],
      "metadata": {
        "id": "4xOGYyiBpUZf"
      }
    },
    {
      "cell_type": "markdown",
      "source": [
        "### Hypothetical Statement - 3"
      ],
      "metadata": {
        "id": "bn_IUdTipZyH"
      }
    },
    {
      "cell_type": "markdown",
      "source": [
        "#### 1. State Your research hypothesis as a null hypothesis and alternate hypothesis."
      ],
      "metadata": {
        "id": "49K5P_iCpZyH"
      }
    },
    {
      "cell_type": "markdown",
      "source": [
        "Answer Here."
      ],
      "metadata": {
        "id": "7gWI5rT9pZyH"
      }
    },
    {
      "cell_type": "markdown",
      "source": [
        "#### 2. Perform an appropriate statistical test."
      ],
      "metadata": {
        "id": "Nff-vKELpZyI"
      }
    },
    {
      "cell_type": "code",
      "source": [
        "# Perform Statistical Test to obtain P-Value"
      ],
      "metadata": {
        "id": "s6AnJQjtpZyI"
      },
      "execution_count": null,
      "outputs": []
    },
    {
      "cell_type": "markdown",
      "source": [
        "##### Which statistical test have you done to obtain P-Value?"
      ],
      "metadata": {
        "id": "kLW572S8pZyI"
      }
    },
    {
      "cell_type": "markdown",
      "source": [
        "Answer Here."
      ],
      "metadata": {
        "id": "ytWJ8v15pZyI"
      }
    },
    {
      "cell_type": "markdown",
      "source": [
        "##### Why did you choose the specific statistical test?"
      ],
      "metadata": {
        "id": "dWbDXHzopZyI"
      }
    },
    {
      "cell_type": "markdown",
      "source": [
        "Answer Here."
      ],
      "metadata": {
        "id": "M99G98V6pZyI"
      }
    },
    {
      "cell_type": "markdown",
      "source": [
        "## ***6. Feature Engineering & Data Pre-processing***"
      ],
      "metadata": {
        "id": "yLjJCtPM0KBk"
      }
    },
    {
      "cell_type": "markdown",
      "source": [
        "### 1. Handling Missing Values"
      ],
      "metadata": {
        "id": "xiyOF9F70UgQ"
      }
    },
    {
      "cell_type": "code",
      "source": [
        "# Handling Missing Values & Missing Value Imputation"
      ],
      "metadata": {
        "id": "iRsAHk1K0fpS"
      },
      "execution_count": null,
      "outputs": []
    },
    {
      "cell_type": "markdown",
      "source": [
        "#### What all missing value imputation techniques have you used and why did you use those techniques?"
      ],
      "metadata": {
        "id": "7wuGOrhz0itI"
      }
    },
    {
      "cell_type": "markdown",
      "source": [
        "Answer Here."
      ],
      "metadata": {
        "id": "1ixusLtI0pqI"
      }
    },
    {
      "cell_type": "markdown",
      "source": [
        "### 2. Handling Outliers"
      ],
      "metadata": {
        "id": "id1riN9m0vUs"
      }
    },
    {
      "cell_type": "code",
      "source": [
        "# Handling Outliers & Outlier treatments"
      ],
      "metadata": {
        "id": "M6w2CzZf04JK"
      },
      "execution_count": null,
      "outputs": []
    },
    {
      "cell_type": "markdown",
      "source": [
        "##### What all outlier treatment techniques have you used and why did you use those techniques?"
      ],
      "metadata": {
        "id": "578E2V7j08f6"
      }
    },
    {
      "cell_type": "markdown",
      "source": [
        "Answer Here."
      ],
      "metadata": {
        "id": "uGZz5OrT1HH-"
      }
    },
    {
      "cell_type": "markdown",
      "source": [
        "### 3. Categorical Encoding"
      ],
      "metadata": {
        "id": "89xtkJwZ18nB"
      }
    },
    {
      "cell_type": "code",
      "source": [
        "# Encode your categorical columns"
      ],
      "metadata": {
        "id": "21JmIYMG2hEo"
      },
      "execution_count": null,
      "outputs": []
    },
    {
      "cell_type": "markdown",
      "source": [
        "#### What all categorical encoding techniques have you used & why did you use those techniques?"
      ],
      "metadata": {
        "id": "67NQN5KX2AMe"
      }
    },
    {
      "cell_type": "markdown",
      "source": [
        "Answer Here."
      ],
      "metadata": {
        "id": "UDaue5h32n_G"
      }
    },
    {
      "cell_type": "markdown",
      "source": [
        "### 4. Textual Data Preprocessing\n",
        "(It's mandatory for textual dataset i.e., NLP, Sentiment Analysis, Text Clustering etc.)"
      ],
      "metadata": {
        "id": "Iwf50b-R2tYG"
      }
    },
    {
      "cell_type": "markdown",
      "source": [
        "#### 1. Expand Contraction"
      ],
      "metadata": {
        "id": "GMQiZwjn3iu7"
      }
    },
    {
      "cell_type": "code",
      "source": [
        "# Expand Contraction"
      ],
      "metadata": {
        "id": "PTouz10C3oNN"
      },
      "execution_count": null,
      "outputs": []
    },
    {
      "cell_type": "markdown",
      "source": [
        "#### 2. Lower Casing"
      ],
      "metadata": {
        "id": "WVIkgGqN3qsr"
      }
    },
    {
      "cell_type": "code",
      "source": [
        "# Lower Casing"
      ],
      "metadata": {
        "id": "88JnJ1jN3w7j"
      },
      "execution_count": null,
      "outputs": []
    },
    {
      "cell_type": "markdown",
      "source": [
        "#### 3. Removing Punctuations"
      ],
      "metadata": {
        "id": "XkPnILGE3zoT"
      }
    },
    {
      "cell_type": "code",
      "source": [
        "# Remove Punctuations"
      ],
      "metadata": {
        "id": "vqbBqNaA33c0"
      },
      "execution_count": null,
      "outputs": []
    },
    {
      "cell_type": "markdown",
      "source": [
        "#### 4. Removing URLs & Removing words and digits contain digits."
      ],
      "metadata": {
        "id": "Hlsf0x5436Go"
      }
    },
    {
      "cell_type": "code",
      "source": [
        "# Remove URLs & Remove words and digits contain digits"
      ],
      "metadata": {
        "id": "2sxKgKxu4Ip3"
      },
      "execution_count": null,
      "outputs": []
    },
    {
      "cell_type": "markdown",
      "source": [
        "#### 5. Removing Stopwords & Removing White spaces"
      ],
      "metadata": {
        "id": "mT9DMSJo4nBL"
      }
    },
    {
      "cell_type": "code",
      "source": [
        "# Remove Stopwords"
      ],
      "metadata": {
        "id": "T2LSJh154s8W"
      },
      "execution_count": null,
      "outputs": []
    },
    {
      "cell_type": "code",
      "source": [
        "# Remove White spaces"
      ],
      "metadata": {
        "id": "EgLJGffy4vm0"
      },
      "execution_count": null,
      "outputs": []
    },
    {
      "cell_type": "markdown",
      "source": [
        "#### 6. Rephrase Text"
      ],
      "metadata": {
        "id": "c49ITxTc407N"
      }
    },
    {
      "cell_type": "code",
      "source": [
        "# Rephrase Text"
      ],
      "metadata": {
        "id": "foqY80Qu48N2"
      },
      "execution_count": null,
      "outputs": []
    },
    {
      "cell_type": "markdown",
      "source": [
        "#### 7. Tokenization"
      ],
      "metadata": {
        "id": "OeJFEK0N496M"
      }
    },
    {
      "cell_type": "code",
      "source": [
        "# Tokenization"
      ],
      "metadata": {
        "id": "ijx1rUOS5CUU"
      },
      "execution_count": null,
      "outputs": []
    },
    {
      "cell_type": "markdown",
      "source": [
        "#### 8. Text Normalization"
      ],
      "metadata": {
        "id": "9ExmJH0g5HBk"
      }
    },
    {
      "cell_type": "code",
      "source": [
        "# Normalizing Text (i.e., Stemming, Lemmatization etc.)"
      ],
      "metadata": {
        "id": "AIJ1a-Zc5PY8"
      },
      "execution_count": null,
      "outputs": []
    },
    {
      "cell_type": "markdown",
      "source": [
        "##### Which text normalization technique have you used and why?"
      ],
      "metadata": {
        "id": "cJNqERVU536h"
      }
    },
    {
      "cell_type": "markdown",
      "source": [
        "Answer Here."
      ],
      "metadata": {
        "id": "Z9jKVxE06BC1"
      }
    },
    {
      "cell_type": "markdown",
      "source": [
        "#### 9. Part of speech tagging"
      ],
      "metadata": {
        "id": "k5UmGsbsOxih"
      }
    },
    {
      "cell_type": "code",
      "source": [
        "# POS Taging"
      ],
      "metadata": {
        "id": "btT3ZJBAO6Ik"
      },
      "execution_count": null,
      "outputs": []
    },
    {
      "cell_type": "markdown",
      "source": [
        "#### 10. Text Vectorization"
      ],
      "metadata": {
        "id": "T0VqWOYE6DLQ"
      }
    },
    {
      "cell_type": "code",
      "source": [
        "# Vectorizing Text"
      ],
      "metadata": {
        "id": "yBRtdhth6JDE"
      },
      "execution_count": null,
      "outputs": []
    },
    {
      "cell_type": "markdown",
      "source": [
        "##### Which text vectorization technique have you used and why?"
      ],
      "metadata": {
        "id": "qBMux9mC6MCf"
      }
    },
    {
      "cell_type": "markdown",
      "source": [
        "Answer Here."
      ],
      "metadata": {
        "id": "su2EnbCh6UKQ"
      }
    },
    {
      "cell_type": "markdown",
      "source": [
        "### 4. Feature Manipulation & Selection"
      ],
      "metadata": {
        "id": "-oLEiFgy-5Pf"
      }
    },
    {
      "cell_type": "markdown",
      "source": [
        "#### 1. Feature Manipulation"
      ],
      "metadata": {
        "id": "C74aWNz2AliB"
      }
    },
    {
      "cell_type": "code",
      "source": [
        "# Manipulate Features to minimize feature correlation and create new features"
      ],
      "metadata": {
        "id": "h1qC4yhBApWC"
      },
      "execution_count": null,
      "outputs": []
    },
    {
      "cell_type": "markdown",
      "source": [
        "#### 2. Feature Selection"
      ],
      "metadata": {
        "id": "2DejudWSA-a0"
      }
    },
    {
      "cell_type": "code",
      "source": [
        "# Select your features wisely to avoid overfitting"
      ],
      "metadata": {
        "id": "YLhe8UmaBCEE"
      },
      "execution_count": null,
      "outputs": []
    },
    {
      "cell_type": "markdown",
      "source": [
        "##### What all feature selection methods have you used  and why?"
      ],
      "metadata": {
        "id": "pEMng2IbBLp7"
      }
    },
    {
      "cell_type": "markdown",
      "source": [
        "Answer Here."
      ],
      "metadata": {
        "id": "rb2Lh6Z8BgGs"
      }
    },
    {
      "cell_type": "markdown",
      "source": [
        "##### Which all features you found important and why?"
      ],
      "metadata": {
        "id": "rAdphbQ9Bhjc"
      }
    },
    {
      "cell_type": "markdown",
      "source": [
        "Answer Here."
      ],
      "metadata": {
        "id": "fGgaEstsBnaf"
      }
    },
    {
      "cell_type": "markdown",
      "source": [
        "### 5. Data Transformation"
      ],
      "metadata": {
        "id": "TNVZ9zx19K6k"
      }
    },
    {
      "cell_type": "markdown",
      "source": [
        "#### Do you think that your data needs to be transformed? If yes, which transformation have you used. Explain Why?"
      ],
      "metadata": {
        "id": "nqoHp30x9hH9"
      }
    },
    {
      "cell_type": "code",
      "source": [
        "# Transform Your data"
      ],
      "metadata": {
        "id": "I6quWQ1T9rtH"
      },
      "execution_count": null,
      "outputs": []
    },
    {
      "cell_type": "markdown",
      "source": [
        "### 6. Data Scaling"
      ],
      "metadata": {
        "id": "rMDnDkt2B6du"
      }
    },
    {
      "cell_type": "code",
      "source": [
        "# Scaling your data"
      ],
      "metadata": {
        "id": "dL9LWpySC6x_"
      },
      "execution_count": null,
      "outputs": []
    },
    {
      "cell_type": "markdown",
      "source": [
        "##### Which method have you used to scale you data and why?"
      ],
      "metadata": {
        "id": "yiiVWRdJDDil"
      }
    },
    {
      "cell_type": "markdown",
      "source": [
        "### 7. Dimesionality Reduction"
      ],
      "metadata": {
        "id": "1UUpS68QDMuG"
      }
    },
    {
      "cell_type": "markdown",
      "source": [
        "##### Do you think that dimensionality reduction is needed? Explain Why?"
      ],
      "metadata": {
        "id": "kexQrXU-DjzY"
      }
    },
    {
      "cell_type": "markdown",
      "source": [
        "Answer Here."
      ],
      "metadata": {
        "id": "GGRlBsSGDtTQ"
      }
    },
    {
      "cell_type": "code",
      "source": [
        "# DImensionality Reduction (If needed)"
      ],
      "metadata": {
        "id": "kQfvxBBHDvCa"
      },
      "execution_count": null,
      "outputs": []
    },
    {
      "cell_type": "markdown",
      "source": [
        "##### Which dimensionality reduction technique have you used and why? (If dimensionality reduction done on dataset.)"
      ],
      "metadata": {
        "id": "T5CmagL3EC8N"
      }
    },
    {
      "cell_type": "markdown",
      "source": [
        "Answer Here."
      ],
      "metadata": {
        "id": "ZKr75IDuEM7t"
      }
    },
    {
      "cell_type": "markdown",
      "source": [
        "### 8. Data Splitting"
      ],
      "metadata": {
        "id": "BhH2vgX9EjGr"
      }
    },
    {
      "cell_type": "code",
      "source": [
        "# Split your data to train and test. Choose Splitting ratio wisely."
      ],
      "metadata": {
        "id": "0CTyd2UwEyNM"
      },
      "execution_count": null,
      "outputs": []
    },
    {
      "cell_type": "markdown",
      "source": [
        "##### What data splitting ratio have you used and why?"
      ],
      "metadata": {
        "id": "qjKvONjwE8ra"
      }
    },
    {
      "cell_type": "markdown",
      "source": [
        "Answer Here."
      ],
      "metadata": {
        "id": "Y2lJ8cobFDb_"
      }
    },
    {
      "cell_type": "markdown",
      "source": [
        "### 9. Handling Imbalanced Dataset"
      ],
      "metadata": {
        "id": "P1XJ9OREExlT"
      }
    },
    {
      "cell_type": "markdown",
      "source": [
        "##### Do you think the dataset is imbalanced? Explain Why."
      ],
      "metadata": {
        "id": "VFOzZv6IFROw"
      }
    },
    {
      "cell_type": "markdown",
      "source": [
        "Answer Here."
      ],
      "metadata": {
        "id": "GeKDIv7pFgcC"
      }
    },
    {
      "cell_type": "code",
      "source": [
        "# Handling Imbalanced Dataset (If needed)"
      ],
      "metadata": {
        "id": "nQsRhhZLFiDs"
      },
      "execution_count": null,
      "outputs": []
    },
    {
      "cell_type": "markdown",
      "source": [
        "##### What technique did you use to handle the imbalance dataset and why? (If needed to be balanced)"
      ],
      "metadata": {
        "id": "TIqpNgepFxVj"
      }
    },
    {
      "cell_type": "markdown",
      "source": [
        "Answer Here."
      ],
      "metadata": {
        "id": "qbet1HwdGDTz"
      }
    },
    {
      "cell_type": "markdown",
      "source": [
        "## ***7. ML Model Implementation***"
      ],
      "metadata": {
        "id": "VfCC591jGiD4"
      }
    },
    {
      "cell_type": "markdown",
      "source": [
        "### ML Model - 1"
      ],
      "metadata": {
        "id": "OB4l2ZhMeS1U"
      }
    },
    {
      "cell_type": "code",
      "source": [
        "# ML Model - 1 Implementation\n",
        "\n",
        "# Fit the Algorithm\n",
        "\n",
        "# Predict on the model"
      ],
      "metadata": {
        "id": "7ebyywQieS1U"
      },
      "execution_count": null,
      "outputs": []
    },
    {
      "cell_type": "markdown",
      "source": [
        "#### 1. Explain the ML Model used and it's performance using Evaluation metric Score Chart."
      ],
      "metadata": {
        "id": "ArJBuiUVfxKd"
      }
    },
    {
      "cell_type": "code",
      "source": [
        "# Visualizing evaluation Metric Score chart"
      ],
      "metadata": {
        "id": "rqD5ZohzfxKe"
      },
      "execution_count": null,
      "outputs": []
    },
    {
      "cell_type": "markdown",
      "source": [
        "#### 2. Cross- Validation & Hyperparameter Tuning"
      ],
      "metadata": {
        "id": "4qY1EAkEfxKe"
      }
    },
    {
      "cell_type": "code",
      "source": [
        "# ML Model - 1 Implementation with hyperparameter optimization techniques (i.e., GridSearch CV, RandomSearch CV, Bayesian Optimization etc.)\n",
        "\n",
        "# Fit the Algorithm\n",
        "\n",
        "# Predict on the model"
      ],
      "metadata": {
        "id": "Dy61ujd6fxKe"
      },
      "execution_count": null,
      "outputs": []
    },
    {
      "cell_type": "markdown",
      "source": [
        "##### Which hyperparameter optimization technique have you used and why?"
      ],
      "metadata": {
        "id": "PiV4Ypx8fxKe"
      }
    },
    {
      "cell_type": "markdown",
      "source": [
        "Answer Here."
      ],
      "metadata": {
        "id": "negyGRa7fxKf"
      }
    },
    {
      "cell_type": "markdown",
      "source": [
        "##### Have you seen any improvement? Note down the improvement with updates Evaluation metric Score Chart."
      ],
      "metadata": {
        "id": "TfvqoZmBfxKf"
      }
    },
    {
      "cell_type": "markdown",
      "source": [
        "Answer Here."
      ],
      "metadata": {
        "id": "OaLui8CcfxKf"
      }
    },
    {
      "cell_type": "markdown",
      "source": [
        "### ML Model - 2"
      ],
      "metadata": {
        "id": "dJ2tPlVmpsJ0"
      }
    },
    {
      "cell_type": "markdown",
      "source": [
        "#### 1. Explain the ML Model used and it's performance using Evaluation metric Score Chart."
      ],
      "metadata": {
        "id": "JWYfwnehpsJ1"
      }
    },
    {
      "cell_type": "code",
      "source": [
        "# Visualizing evaluation Metric Score chart"
      ],
      "metadata": {
        "id": "yEl-hgQWpsJ1"
      },
      "execution_count": null,
      "outputs": []
    },
    {
      "cell_type": "markdown",
      "source": [
        "#### 2. Cross- Validation & Hyperparameter Tuning"
      ],
      "metadata": {
        "id": "-jK_YjpMpsJ2"
      }
    },
    {
      "cell_type": "code",
      "source": [
        "# ML Model - 1 Implementation with hyperparameter optimization techniques (i.e., GridSearch CV, RandomSearch CV, Bayesian Optimization etc.)\n",
        "\n",
        "# Fit the Algorithm\n",
        "\n",
        "# Predict on the model"
      ],
      "metadata": {
        "id": "Dn0EOfS6psJ2"
      },
      "execution_count": null,
      "outputs": []
    },
    {
      "cell_type": "markdown",
      "source": [
        "##### Which hyperparameter optimization technique have you used and why?"
      ],
      "metadata": {
        "id": "HAih1iBOpsJ2"
      }
    },
    {
      "cell_type": "markdown",
      "source": [
        "Answer Here."
      ],
      "metadata": {
        "id": "9kBgjYcdpsJ2"
      }
    },
    {
      "cell_type": "markdown",
      "source": [
        "##### Have you seen any improvement? Note down the improvement with updates Evaluation metric Score Chart."
      ],
      "metadata": {
        "id": "zVGeBEFhpsJ2"
      }
    },
    {
      "cell_type": "markdown",
      "source": [
        "Answer Here."
      ],
      "metadata": {
        "id": "74yRdG6UpsJ3"
      }
    },
    {
      "cell_type": "markdown",
      "source": [
        "#### 3. Explain each evaluation metric's indication towards business and the business impact pf the ML model used."
      ],
      "metadata": {
        "id": "bmKjuQ-FpsJ3"
      }
    },
    {
      "cell_type": "markdown",
      "source": [
        "Answer Here."
      ],
      "metadata": {
        "id": "BDKtOrBQpsJ3"
      }
    },
    {
      "cell_type": "markdown",
      "source": [
        "### ML Model - 3"
      ],
      "metadata": {
        "id": "Fze-IPXLpx6K"
      }
    },
    {
      "cell_type": "code",
      "source": [
        "# ML Model - 3 Implementation\n",
        "\n",
        "# Fit the Algorithm\n",
        "\n",
        "# Predict on the model"
      ],
      "metadata": {
        "id": "FFrSXAtrpx6M"
      },
      "execution_count": null,
      "outputs": []
    },
    {
      "cell_type": "markdown",
      "source": [
        "#### 1. Explain the ML Model used and it's performance using Evaluation metric Score Chart."
      ],
      "metadata": {
        "id": "7AN1z2sKpx6M"
      }
    },
    {
      "cell_type": "code",
      "source": [
        "# Visualizing evaluation Metric Score chart"
      ],
      "metadata": {
        "id": "xIY4lxxGpx6M"
      },
      "execution_count": null,
      "outputs": []
    },
    {
      "cell_type": "markdown",
      "source": [
        "#### 2. Cross- Validation & Hyperparameter Tuning"
      ],
      "metadata": {
        "id": "9PIHJqyupx6M"
      }
    },
    {
      "cell_type": "code",
      "source": [
        "# ML Model - 3 Implementation with hyperparameter optimization techniques (i.e., GridSearch CV, RandomSearch CV, Bayesian Optimization etc.)\n",
        "\n",
        "# Fit the Algorithm\n",
        "\n",
        "# Predict on the model"
      ],
      "metadata": {
        "id": "eSVXuaSKpx6M"
      },
      "execution_count": null,
      "outputs": []
    },
    {
      "cell_type": "markdown",
      "source": [
        "##### Which hyperparameter optimization technique have you used and why?"
      ],
      "metadata": {
        "id": "_-qAgymDpx6N"
      }
    },
    {
      "cell_type": "markdown",
      "source": [
        "Answer Here."
      ],
      "metadata": {
        "id": "lQMffxkwpx6N"
      }
    },
    {
      "cell_type": "markdown",
      "source": [
        "##### Have you seen any improvement? Note down the improvement with updates Evaluation metric Score Chart."
      ],
      "metadata": {
        "id": "Z-hykwinpx6N"
      }
    },
    {
      "cell_type": "markdown",
      "source": [
        "Answer Here."
      ],
      "metadata": {
        "id": "MzVzZC6opx6N"
      }
    },
    {
      "cell_type": "markdown",
      "source": [
        "### 1. Which Evaluation metrics did you consider for a positive business impact and why?"
      ],
      "metadata": {
        "id": "h_CCil-SKHpo"
      }
    },
    {
      "cell_type": "markdown",
      "source": [
        "Answer Here."
      ],
      "metadata": {
        "id": "jHVz9hHDKFms"
      }
    },
    {
      "cell_type": "markdown",
      "source": [
        "### 2. Which ML model did you choose from the above created models as your final prediction model and why?"
      ],
      "metadata": {
        "id": "cBFFvTBNJzUa"
      }
    },
    {
      "cell_type": "markdown",
      "source": [
        "Answer Here."
      ],
      "metadata": {
        "id": "6ksF5Q1LKTVm"
      }
    },
    {
      "cell_type": "markdown",
      "source": [
        "### 3. Explain the model which you have used and the feature importance using any model explainability tool?"
      ],
      "metadata": {
        "id": "HvGl1hHyA_VK"
      }
    },
    {
      "cell_type": "markdown",
      "source": [
        "Answer Here."
      ],
      "metadata": {
        "id": "YnvVTiIxBL-C"
      }
    },
    {
      "cell_type": "markdown",
      "source": [
        "## ***8.*** ***Future Work (Optional)***"
      ],
      "metadata": {
        "id": "EyNgTHvd2WFk"
      }
    },
    {
      "cell_type": "markdown",
      "source": [
        "### 1. Save the best performing ml model in a pickle file or joblib file format for deployment process.\n"
      ],
      "metadata": {
        "id": "KH5McJBi2d8v"
      }
    },
    {
      "cell_type": "code",
      "source": [
        "# Save the File"
      ],
      "metadata": {
        "id": "bQIANRl32f4J"
      },
      "execution_count": null,
      "outputs": []
    },
    {
      "cell_type": "markdown",
      "source": [
        "### 2. Again Load the saved model file and try to predict unseen data for a sanity check.\n"
      ],
      "metadata": {
        "id": "iW_Lq9qf2h6X"
      }
    },
    {
      "cell_type": "code",
      "source": [
        "# Load the File and predict unseen data."
      ],
      "metadata": {
        "id": "oEXk9ydD2nVC"
      },
      "execution_count": null,
      "outputs": []
    },
    {
      "cell_type": "markdown",
      "source": [
        "### ***Congrats! Your model is successfully created and ready for deployment on a live server for a real user interaction !!!***"
      ],
      "metadata": {
        "id": "-Kee-DAl2viO"
      }
    },
    {
      "cell_type": "markdown",
      "source": [
        "# **Conclusion**"
      ],
      "metadata": {
        "id": "gCX9965dhzqZ"
      }
    },
    {
      "cell_type": "markdown",
      "source": [
        "Write the conclusion here."
      ],
      "metadata": {
        "id": "Fjb1IsQkh3yE"
      }
    },
    {
      "cell_type": "markdown",
      "source": [
        "### ***Hurrah! You have successfully completed your Machine Learning Capstone Project !!!***"
      ],
      "metadata": {
        "id": "gIfDvo9L0UH2"
      }
    }
  ]
}